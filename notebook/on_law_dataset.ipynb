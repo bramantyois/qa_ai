{
 "cells": [
  {
   "cell_type": "code",
   "execution_count": 1,
   "metadata": {},
   "outputs": [
    {
     "name": "stdout",
     "output_type": "stream",
     "text": [
      "/home/ra/Codes/qa_ai\n"
     ]
    }
   ],
   "source": [
    "import os \n",
    "\n",
    "# move to project root\n",
    "while True:\n",
    "    if os.getcwd().split(\"/\")[-1] == \"qa_ai\":\n",
    "        break\n",
    "    else:\n",
    "        os.chdir(\"..\")\n",
    "\n",
    "print(os.getcwd())"
   ]
  },
  {
   "cell_type": "code",
   "execution_count": 2,
   "metadata": {},
   "outputs": [],
   "source": [
    "import numpy as np\n",
    "import pandas as pd \n",
    "\n",
    "import seaborn as sns\n",
    "import matplotlib.pyplot as plt\n",
    "\n",
    "from sklearn.preprocessing import StandardScaler \n",
    "from sklearn.linear_model import LogisticRegression\n",
    "from sklearn.ensemble import RandomForestClassifier\n",
    "from sklearn.metrics import confusion_matrix\n",
    "\n",
    "from src.compute_and_plot_abroca import compute_abroca"
   ]
  },
  {
   "cell_type": "code",
   "execution_count": 3,
   "metadata": {},
   "outputs": [],
   "source": [
    "# darkgrid, whitegrid, dark, white, ticks\n",
    "sns.set(style=\"ticks\", context=\"paper\")\n",
    "plt.style.use(\"dark_background\")"
   ]
  },
  {
   "attachments": {},
   "cell_type": "markdown",
   "metadata": {},
   "source": [
    "# Some Utils"
   ]
  },
  {
   "cell_type": "code",
   "execution_count": 4,
   "metadata": {},
   "outputs": [],
   "source": [
    "def compute_accuracy(confusion_matrix):\n",
    "    \"\"\"\n",
    "    Function to compute accuracy from confusion matrix\n",
    "    confusion_matrix - confusion matrix from sklearn.metrics.confusion_matrix\n",
    "    Returns accuracy\n",
    "    \"\"\"\n",
    "    return (confusion_matrix[0, 0] + confusion_matrix[1, 1]) / np.sum(confusion_matrix)"
   ]
  },
  {
   "cell_type": "code",
   "execution_count": 5,
   "metadata": {},
   "outputs": [],
   "source": [
    "def compute_true_positive_rate(confusion_matrix):\n",
    "    \"\"\"\n",
    "    Function to compute true positive rate from confusion matrix\n",
    "    confusion_matrix - confusion matrix from sklearn.metrics.confusion_matrix\n",
    "    Returns true positive rate\n",
    "    \"\"\"\n",
    "    return confusion_matrix[1, 1] / np.sum(confusion_matrix[1, :])"
   ]
  },
  {
   "cell_type": "code",
   "execution_count": 6,
   "metadata": {},
   "outputs": [],
   "source": [
    "def compute_true_negative_rate(confusion_matrix):\n",
    "    \"\"\"\n",
    "    Function to compute true negative rate from confusion matrix\n",
    "    confusion_matrix - confusion matrix from sklearn.metrics.confusion_matrix\n",
    "    Returns true negative rate\n",
    "    \"\"\"\n",
    "    return confusion_matrix[0, 0] / np.sum(confusion_matrix[0, :])"
   ]
  },
  {
   "cell_type": "code",
   "execution_count": 7,
   "metadata": {},
   "outputs": [],
   "source": [
    "def compute_statistical_parity(confusion_matrix_group_1, confusion_matrix_group_2):\n",
    "    \"\"\"\n",
    "    Function to compute statistical parity from confusion matrices of two groups\n",
    "    confusion_matrix_group_1 - confusion matrix from sklearn.metrics.confusion_matrix for group 1\n",
    "    confusion_matrix_group_2 - confusion matrix from sklearn.metrics.confusion_matrix for group 2\n",
    "    Returns statistical parity\n",
    "    \"\"\"\n",
    "    return compute_true_positive_rate(confusion_matrix_group_1) - compute_true_positive_rate(confusion_matrix_group_2)"
   ]
  },
  {
   "cell_type": "code",
   "execution_count": 8,
   "metadata": {},
   "outputs": [],
   "source": [
    "def compute_equalized_odds(confusion_matrix_group_1, confusion_matrix_group_2):\n",
    "    \"\"\"\n",
    "    Function to compute equalized odds from confusion matrices of two groups\n",
    "    confusion_matrix_group_1 - confusion matrix from sklearn.metrics.confusion_matrix for group 1\n",
    "    confusion_matrix_group_2 - confusion matrix from sklearn.metrics.confusion_matrix for group 2\n",
    "    Returns equalized odds\n",
    "    \"\"\"\n",
    "    return abs(\n",
    "        compute_true_positive_rate(confusion_matrix_group_1) - compute_true_positive_rate(confusion_matrix_group_2)\n",
    "    ) + abs(\n",
    "        compute_true_negative_rate(confusion_matrix_group_1) - compute_true_negative_rate(confusion_matrix_group_2)\n",
    "    )"
   ]
  },
  {
   "attachments": {},
   "cell_type": "markdown",
   "metadata": {},
   "source": [
    "# Structure\n",
    "1. Load data\n",
    "2. Data Visualization\n",
    "3. Preprocessing\n",
    "4. Model\n",
    "5. Evaluation\n",
    "6. Conclusion"
   ]
  },
  {
   "attachments": {},
   "cell_type": "markdown",
   "metadata": {},
   "source": [
    "# Loading dataset"
   ]
  },
  {
   "cell_type": "code",
   "execution_count": 9,
   "metadata": {},
   "outputs": [
    {
     "data": {
      "text/html": [
       "<div>\n",
       "<style scoped>\n",
       "    .dataframe tbody tr th:only-of-type {\n",
       "        vertical-align: middle;\n",
       "    }\n",
       "\n",
       "    .dataframe tbody tr th {\n",
       "        vertical-align: top;\n",
       "    }\n",
       "\n",
       "    .dataframe thead th {\n",
       "        text-align: right;\n",
       "    }\n",
       "</style>\n",
       "<table border=\"1\" class=\"dataframe\">\n",
       "  <thead>\n",
       "    <tr style=\"text-align: right;\">\n",
       "      <th></th>\n",
       "      <th>decile1b</th>\n",
       "      <th>decile3</th>\n",
       "      <th>lsat</th>\n",
       "      <th>ugpa</th>\n",
       "      <th>zfygpa</th>\n",
       "      <th>zgpa</th>\n",
       "      <th>fulltime</th>\n",
       "      <th>fam_inc</th>\n",
       "      <th>male</th>\n",
       "      <th>tier</th>\n",
       "      <th>race</th>\n",
       "      <th>pass_bar</th>\n",
       "    </tr>\n",
       "  </thead>\n",
       "  <tbody>\n",
       "    <tr>\n",
       "      <th>0</th>\n",
       "      <td>10.0</td>\n",
       "      <td>10.0</td>\n",
       "      <td>44.0</td>\n",
       "      <td>3.5</td>\n",
       "      <td>1.33</td>\n",
       "      <td>1.88</td>\n",
       "      <td>1.0</td>\n",
       "      <td>5.0</td>\n",
       "      <td>0.0</td>\n",
       "      <td>4.0</td>\n",
       "      <td>White</td>\n",
       "      <td>1.0</td>\n",
       "    </tr>\n",
       "    <tr>\n",
       "      <th>1</th>\n",
       "      <td>5.0</td>\n",
       "      <td>4.0</td>\n",
       "      <td>29.0</td>\n",
       "      <td>3.5</td>\n",
       "      <td>-0.11</td>\n",
       "      <td>-0.57</td>\n",
       "      <td>1.0</td>\n",
       "      <td>4.0</td>\n",
       "      <td>0.0</td>\n",
       "      <td>2.0</td>\n",
       "      <td>White</td>\n",
       "      <td>1.0</td>\n",
       "    </tr>\n",
       "    <tr>\n",
       "      <th>2</th>\n",
       "      <td>8.0</td>\n",
       "      <td>7.0</td>\n",
       "      <td>37.0</td>\n",
       "      <td>3.4</td>\n",
       "      <td>0.63</td>\n",
       "      <td>0.37</td>\n",
       "      <td>1.0</td>\n",
       "      <td>3.0</td>\n",
       "      <td>1.0</td>\n",
       "      <td>4.0</td>\n",
       "      <td>White</td>\n",
       "      <td>1.0</td>\n",
       "    </tr>\n",
       "    <tr>\n",
       "      <th>3</th>\n",
       "      <td>8.0</td>\n",
       "      <td>7.0</td>\n",
       "      <td>43.0</td>\n",
       "      <td>3.3</td>\n",
       "      <td>0.67</td>\n",
       "      <td>0.34</td>\n",
       "      <td>1.0</td>\n",
       "      <td>4.0</td>\n",
       "      <td>0.0</td>\n",
       "      <td>4.0</td>\n",
       "      <td>White</td>\n",
       "      <td>1.0</td>\n",
       "    </tr>\n",
       "    <tr>\n",
       "      <th>4</th>\n",
       "      <td>3.0</td>\n",
       "      <td>2.0</td>\n",
       "      <td>41.0</td>\n",
       "      <td>3.3</td>\n",
       "      <td>-0.67</td>\n",
       "      <td>-1.30</td>\n",
       "      <td>1.0</td>\n",
       "      <td>4.0</td>\n",
       "      <td>0.0</td>\n",
       "      <td>5.0</td>\n",
       "      <td>White</td>\n",
       "      <td>1.0</td>\n",
       "    </tr>\n",
       "  </tbody>\n",
       "</table>\n",
       "</div>"
      ],
      "text/plain": [
       "   decile1b  decile3  lsat  ugpa  zfygpa  zgpa  fulltime  fam_inc  male  tier  \\\n",
       "0      10.0     10.0  44.0   3.5    1.33  1.88       1.0      5.0   0.0   4.0   \n",
       "1       5.0      4.0  29.0   3.5   -0.11 -0.57       1.0      4.0   0.0   2.0   \n",
       "2       8.0      7.0  37.0   3.4    0.63  0.37       1.0      3.0   1.0   4.0   \n",
       "3       8.0      7.0  43.0   3.3    0.67  0.34       1.0      4.0   0.0   4.0   \n",
       "4       3.0      2.0  41.0   3.3   -0.67 -1.30       1.0      4.0   0.0   5.0   \n",
       "\n",
       "    race  pass_bar  \n",
       "0  White       1.0  \n",
       "1  White       1.0  \n",
       "2  White       1.0  \n",
       "3  White       1.0  \n",
       "4  White       1.0  "
      ]
     },
     "execution_count": 9,
     "metadata": {},
     "output_type": "execute_result"
    }
   ],
   "source": [
    "data_path = 'data/Homework3_dataset_law.csv'\n",
    "data_df = pd.read_csv(data_path)\n",
    "\n",
    "data_df.head()"
   ]
  },
  {
   "cell_type": "code",
   "execution_count": 10,
   "metadata": {},
   "outputs": [],
   "source": [
    "# dictionry of types of data\n",
    "numerical_features = {\n",
    "    'decile1b', \n",
    "    'decile3', \n",
    "    'lsat', \n",
    "    'ugpa', \n",
    "    'zfygpa', \n",
    "    'zgpa', }\n",
    "\n",
    "binary_features = {\n",
    "    'fulltime',\n",
    "    'male',\n",
    "    'race',}\n",
    "\n",
    "categorical_features = {\n",
    "    'fam_inc',\n",
    "    'tier'}"
   ]
  },
  {
   "attachments": {},
   "cell_type": "markdown",
   "metadata": {},
   "source": [
    "# Data Visualization"
   ]
  },
  {
   "cell_type": "code",
   "execution_count": 11,
   "metadata": {},
   "outputs": [
    {
     "name": "stdout",
     "output_type": "stream",
     "text": [
      "total white data: 17491\n",
      "total non-white data: 3307\n"
     ]
    }
   ],
   "source": [
    "# compare number of white and non-white data\n",
    "white_df = data_df[data_df['race'] == 'White']\n",
    "n_white = white_df.shape[0]\n",
    "print(f'total white data: {n_white}')\n",
    "\n",
    "non_white_df = data_df[data_df['race']!='White']\n",
    "n_non_white = non_white_df.shape[0]\n",
    "print(f'total non-white data: {n_non_white}')"
   ]
  },
  {
   "cell_type": "code",
   "execution_count": 12,
   "metadata": {},
   "outputs": [
    {
     "name": "stdout",
     "output_type": "stream",
     "text": [
      "white pass bar: 16114\n",
      "non-white pass bar: 2391\n"
     ]
    }
   ],
   "source": [
    "n_passed_white = white_df[white_df['pass_bar'] == 1.0].shape[0] \n",
    "n_passed_non_white = non_white_df[non_white_df['pass_bar'] == 1.0].shape[0]\n",
    "\n",
    "print(f'white pass bar: {n_passed_white}')\n",
    "print(f'non-white pass bar: {n_passed_non_white}')"
   ]
  },
  {
   "cell_type": "code",
   "execution_count": 13,
   "metadata": {},
   "outputs": [
    {
     "name": "stdout",
     "output_type": "stream",
     "text": [
      "white pass bar percentage: 92.12737979532331\n",
      "non-white pass bar: 72.30117931660115\n"
     ]
    }
   ],
   "source": [
    "print(f'white pass bar percentage: {n_passed_white * 100/ n_white}')\n",
    "print(f'non-white pass bar: {n_passed_non_white*100/n_non_white}')"
   ]
  },
  {
   "cell_type": "code",
   "execution_count": 14,
   "metadata": {},
   "outputs": [
    {
     "data": {
      "image/png": "[encoded data removed]",
      "text/plain": [
       "<Figure size 608x500 with 1 Axes>"
      ]
     },
     "metadata": {},
     "output_type": "display_data"
    }
   ],
   "source": [
    "# plot distribution of lsat scores across races\n",
    "var = 'lsat'\n",
    "sns.displot(data=data_df, x=var, hue='race', kde=True, bins=20)\n",
    "plt.title(f'{var.upper()} score across Race')\n",
    "plt.show()"
   ]
  },
  {
   "cell_type": "code",
   "execution_count": 15,
   "metadata": {},
   "outputs": [
    {
     "data": {
      "image/png": "[encoded data removed]",
      "text/plain": [
       "<Figure size 608x500 with 1 Axes>"
      ]
     },
     "metadata": {},
     "output_type": "display_data"
    }
   ],
   "source": [
    "# plot distribution of lsat scores across races\n",
    "var = 'ugpa'\n",
    "sns.displot(data=data_df, x=var, hue='race', kde=True, bins=20)\n",
    "plt.title(f'{var.upper()} score across Race')\n",
    "plt.show()"
   ]
  },
  {
   "attachments": {},
   "cell_type": "markdown",
   "metadata": {},
   "source": [
    "# Pre-processing"
   ]
  },
  {
   "cell_type": "code",
   "execution_count": 16,
   "metadata": {},
   "outputs": [],
   "source": [
    "## Training Test Split\n",
    "train_df = data_df.sample(frac=0.8, random_state=42)\n",
    "test_df = data_df.drop(train_df.index)"
   ]
  },
  {
   "cell_type": "code",
   "execution_count": 17,
   "metadata": {},
   "outputs": [],
   "source": [
    "test_white_idx = test_df['race']=='White'\n",
    "test_nw_idx = test_df['race']!='White'"
   ]
  },
  {
   "cell_type": "code",
   "execution_count": 18,
   "metadata": {},
   "outputs": [],
   "source": [
    "# standardize numerical features\n",
    "for feature in numerical_features:\n",
    "    scaler = StandardScaler()\n",
    "    train_df[feature] = scaler.fit_transform(train_df[feature].values.reshape(-1,1))\n",
    "    test_df[feature] = scaler.transform(test_df[feature].values.reshape(-1,1))"
   ]
  },
  {
   "cell_type": "code",
   "execution_count": 19,
   "metadata": {},
   "outputs": [],
   "source": [
    "# one-hot encode categorical features\n",
    "for feature in categorical_features:\n",
    "    train_df = pd.concat([train_df, pd.get_dummies(train_df[feature], prefix=feature, dtype=float)], axis=1)\n",
    "    test_df = pd.concat([test_df, pd.get_dummies(test_df[feature], prefix=feature, dtype=float)], axis=1)\n",
    "\n",
    "    train_df.drop(feature, axis=1, inplace=True)\n",
    "    test_df.drop(feature, axis=1, inplace=True)"
   ]
  },
  {
   "cell_type": "code",
   "execution_count": 20,
   "metadata": {},
   "outputs": [
    {
     "data": {
      "text/html": [
       "<div>\n",
       "<style scoped>\n",
       "    .dataframe tbody tr th:only-of-type {\n",
       "        vertical-align: middle;\n",
       "    }\n",
       "\n",
       "    .dataframe tbody tr th {\n",
       "        vertical-align: top;\n",
       "    }\n",
       "\n",
       "    .dataframe thead th {\n",
       "        text-align: right;\n",
       "    }\n",
       "</style>\n",
       "<table border=\"1\" class=\"dataframe\">\n",
       "  <thead>\n",
       "    <tr style=\"text-align: right;\">\n",
       "      <th></th>\n",
       "      <th>decile1b</th>\n",
       "      <th>decile3</th>\n",
       "      <th>lsat</th>\n",
       "      <th>ugpa</th>\n",
       "      <th>zfygpa</th>\n",
       "      <th>zgpa</th>\n",
       "      <th>fulltime</th>\n",
       "      <th>male</th>\n",
       "      <th>race</th>\n",
       "      <th>pass_bar</th>\n",
       "      <th>...</th>\n",
       "      <th>tier_2.0</th>\n",
       "      <th>tier_3.0</th>\n",
       "      <th>tier_4.0</th>\n",
       "      <th>tier_5.0</th>\n",
       "      <th>tier_6.0</th>\n",
       "      <th>fam_inc_1.0</th>\n",
       "      <th>fam_inc_2.0</th>\n",
       "      <th>fam_inc_3.0</th>\n",
       "      <th>fam_inc_4.0</th>\n",
       "      <th>fam_inc_5.0</th>\n",
       "    </tr>\n",
       "  </thead>\n",
       "  <tbody>\n",
       "    <tr>\n",
       "      <th>1346</th>\n",
       "      <td>0.848185</td>\n",
       "      <td>0.146772</td>\n",
       "      <td>-1.256920</td>\n",
       "      <td>1.877654</td>\n",
       "      <td>0.652848</td>\n",
       "      <td>0.223523</td>\n",
       "      <td>1.0</td>\n",
       "      <td>0.0</td>\n",
       "      <td>White</td>\n",
       "      <td>1.0</td>\n",
       "      <td>...</td>\n",
       "      <td>0.0</td>\n",
       "      <td>1.0</td>\n",
       "      <td>0.0</td>\n",
       "      <td>0.0</td>\n",
       "      <td>0.0</td>\n",
       "      <td>0.0</td>\n",
       "      <td>1.0</td>\n",
       "      <td>0.0</td>\n",
       "      <td>0.0</td>\n",
       "      <td>0.0</td>\n",
       "    </tr>\n",
       "    <tr>\n",
       "      <th>14568</th>\n",
       "      <td>1.197875</td>\n",
       "      <td>1.545796</td>\n",
       "      <td>-0.514455</td>\n",
       "      <td>0.414814</td>\n",
       "      <td>0.845938</td>\n",
       "      <td>1.800082</td>\n",
       "      <td>1.0</td>\n",
       "      <td>1.0</td>\n",
       "      <td>Non-White</td>\n",
       "      <td>1.0</td>\n",
       "      <td>...</td>\n",
       "      <td>0.0</td>\n",
       "      <td>1.0</td>\n",
       "      <td>0.0</td>\n",
       "      <td>0.0</td>\n",
       "      <td>0.0</td>\n",
       "      <td>0.0</td>\n",
       "      <td>0.0</td>\n",
       "      <td>1.0</td>\n",
       "      <td>0.0</td>\n",
       "      <td>0.0</td>\n",
       "    </tr>\n",
       "    <tr>\n",
       "      <th>14700</th>\n",
       "      <td>1.547565</td>\n",
       "      <td>1.545796</td>\n",
       "      <td>-1.071304</td>\n",
       "      <td>-1.535639</td>\n",
       "      <td>1.983023</td>\n",
       "      <td>1.557534</td>\n",
       "      <td>1.0</td>\n",
       "      <td>0.0</td>\n",
       "      <td>Non-White</td>\n",
       "      <td>1.0</td>\n",
       "      <td>...</td>\n",
       "      <td>0.0</td>\n",
       "      <td>0.0</td>\n",
       "      <td>0.0</td>\n",
       "      <td>0.0</td>\n",
       "      <td>0.0</td>\n",
       "      <td>0.0</td>\n",
       "      <td>0.0</td>\n",
       "      <td>0.0</td>\n",
       "      <td>1.0</td>\n",
       "      <td>0.0</td>\n",
       "    </tr>\n",
       "    <tr>\n",
       "      <th>10881</th>\n",
       "      <td>1.547565</td>\n",
       "      <td>1.545796</td>\n",
       "      <td>0.228010</td>\n",
       "      <td>0.171008</td>\n",
       "      <td>1.940114</td>\n",
       "      <td>2.436769</td>\n",
       "      <td>1.0</td>\n",
       "      <td>0.0</td>\n",
       "      <td>White</td>\n",
       "      <td>1.0</td>\n",
       "      <td>...</td>\n",
       "      <td>0.0</td>\n",
       "      <td>0.0</td>\n",
       "      <td>0.0</td>\n",
       "      <td>0.0</td>\n",
       "      <td>1.0</td>\n",
       "      <td>0.0</td>\n",
       "      <td>0.0</td>\n",
       "      <td>0.0</td>\n",
       "      <td>0.0</td>\n",
       "      <td>1.0</td>\n",
       "    </tr>\n",
       "    <tr>\n",
       "      <th>16459</th>\n",
       "      <td>1.547565</td>\n",
       "      <td>1.545796</td>\n",
       "      <td>0.413626</td>\n",
       "      <td>0.414814</td>\n",
       "      <td>1.618297</td>\n",
       "      <td>1.426154</td>\n",
       "      <td>1.0</td>\n",
       "      <td>1.0</td>\n",
       "      <td>White</td>\n",
       "      <td>1.0</td>\n",
       "      <td>...</td>\n",
       "      <td>0.0</td>\n",
       "      <td>1.0</td>\n",
       "      <td>0.0</td>\n",
       "      <td>0.0</td>\n",
       "      <td>0.0</td>\n",
       "      <td>0.0</td>\n",
       "      <td>0.0</td>\n",
       "      <td>1.0</td>\n",
       "      <td>0.0</td>\n",
       "      <td>0.0</td>\n",
       "    </tr>\n",
       "  </tbody>\n",
       "</table>\n",
       "<p>5 rows × 21 columns</p>\n",
       "</div>"
      ],
      "text/plain": [
       "       decile1b   decile3      lsat      ugpa    zfygpa      zgpa  fulltime  \\\n",
       "1346   0.848185  0.146772 -1.256920  1.877654  0.652848  0.223523       1.0   \n",
       "14568  1.197875  1.545796 -0.514455  0.414814  0.845938  1.800082       1.0   \n",
       "14700  1.547565  1.545796 -1.071304 -1.535639  1.983023  1.557534       1.0   \n",
       "10881  1.547565  1.545796  0.228010  0.171008  1.940114  2.436769       1.0   \n",
       "16459  1.547565  1.545796  0.413626  0.414814  1.618297  1.426154       1.0   \n",
       "\n",
       "       male       race  pass_bar  ...  tier_2.0  tier_3.0  tier_4.0  tier_5.0  \\\n",
       "1346    0.0      White       1.0  ...       0.0       1.0       0.0       0.0   \n",
       "14568   1.0  Non-White       1.0  ...       0.0       1.0       0.0       0.0   \n",
       "14700   0.0  Non-White       1.0  ...       0.0       0.0       0.0       0.0   \n",
       "10881   0.0      White       1.0  ...       0.0       0.0       0.0       0.0   \n",
       "16459   1.0      White       1.0  ...       0.0       1.0       0.0       0.0   \n",
       "\n",
       "       tier_6.0  fam_inc_1.0  fam_inc_2.0  fam_inc_3.0  fam_inc_4.0  \\\n",
       "1346        0.0          0.0          1.0          0.0          0.0   \n",
       "14568       0.0          0.0          0.0          1.0          0.0   \n",
       "14700       0.0          0.0          0.0          0.0          1.0   \n",
       "10881       1.0          0.0          0.0          0.0          0.0   \n",
       "16459       0.0          0.0          0.0          1.0          0.0   \n",
       "\n",
       "       fam_inc_5.0  \n",
       "1346           0.0  \n",
       "14568          0.0  \n",
       "14700          0.0  \n",
       "10881          1.0  \n",
       "16459          0.0  \n",
       "\n",
       "[5 rows x 21 columns]"
      ]
     },
     "execution_count": 20,
     "metadata": {},
     "output_type": "execute_result"
    }
   ],
   "source": [
    "train_df.head()"
   ]
  },
  {
   "cell_type": "code",
   "execution_count": 21,
   "metadata": {},
   "outputs": [],
   "source": [
    "# one hot encode binary features\n",
    "for feature in binary_features:\n",
    "    train_df = pd.concat([train_df, pd.get_dummies(train_df[feature], prefix=feature, dtype=float, drop_first=True)], axis=1)\n",
    "    test_df = pd.concat([test_df, pd.get_dummies(test_df[feature], prefix=feature, dtype=float, drop_first=True)], axis=1)\n",
    "\n",
    "    train_df.drop(feature, axis=1, inplace=True)\n",
    "    test_df.drop(feature, axis=1, inplace=True)"
   ]
  },
  {
   "cell_type": "code",
   "execution_count": 22,
   "metadata": {},
   "outputs": [],
   "source": [
    "test_white_df = test_df[test_white_idx]\n",
    "test_nw_df = test_df[test_nw_idx]"
   ]
  },
  {
   "attachments": {},
   "cell_type": "markdown",
   "metadata": {},
   "source": [
    "# Models"
   ]
  },
  {
   "attachments": {},
   "cell_type": "markdown",
   "metadata": {},
   "source": [
    "## Logistic Regression"
   ]
  },
  {
   "cell_type": "code",
   "execution_count": 23,
   "metadata": {},
   "outputs": [],
   "source": [
    "# create logistic regression instance\n",
    "lreg = LogisticRegression(penalty='l2')\n",
    "\n",
    "# fit model\n",
    "lreg.fit(train_df.drop('pass_bar', axis=1), train_df['pass_bar'])\n",
    "\n",
    "# get predictions on test set\n",
    "lreg_y_pred = lreg.predict(test_df.drop('pass_bar', axis=1))\n",
    "lreg_y_proba = lreg.predict_proba(test_df.drop('pass_bar', axis=1))\n",
    "\n",
    "lreg_w_y_pred = lreg.predict(test_white_df.drop('pass_bar', axis=1))\n",
    "lreg_nw_y_pred = lreg.predict(test_nw_df.drop('pass_bar', axis=1))\n",
    "\n",
    "# get confusion matrix\n",
    "lreg_confusion_matrix = confusion_matrix(test_df['pass_bar'], lreg_y_pred)\n",
    "lreg_w_confusion_matrix = confusion_matrix(test_white_df['pass_bar'], lreg_w_y_pred)\n",
    "lreg_nw_confusion_matrix = confusion_matrix(test_nw_df['pass_bar'], lreg_nw_y_pred)"
   ]
  },
  {
   "attachments": {},
   "cell_type": "markdown",
   "metadata": {},
   "source": [
    "## Random Forest"
   ]
  },
  {
   "cell_type": "code",
   "execution_count": 24,
   "metadata": {},
   "outputs": [],
   "source": [
    "rforest = RandomForestClassifier(n_estimators=100, max_depth=10, random_state=42)\n",
    "\n",
    "# fit model\n",
    "rforest.fit(train_df.drop('pass_bar', axis=1), train_df['pass_bar'])\n",
    "\n",
    "# get predictions on test set\n",
    "rforest_y_pred = rforest.predict(test_df.drop('pass_bar', axis=1))\n",
    "rforest_y_proba = rforest.predict_proba(test_df.drop('pass_bar', axis=1))\n",
    "\n",
    "rforest_w_y_pred = rforest.predict(test_white_df.drop('pass_bar', axis=1))\n",
    "rforest_nw_y_pred = rforest.predict(test_nw_df.drop('pass_bar', axis=1))\n",
    "\n",
    "# get confusion matrix\n",
    "rforest_confusion_matrix = confusion_matrix(test_df['pass_bar'], rforest_y_pred)\n",
    "rforest_w_confusion_matrix = confusion_matrix(test_white_df['pass_bar'], rforest_w_y_pred)\n",
    "rforest_nw_confusion_matrix = confusion_matrix(test_nw_df['pass_bar'], rforest_nw_y_pred)"
   ]
  },
  {
   "attachments": {},
   "cell_type": "markdown",
   "metadata": {},
   "source": [
    "# Metrics"
   ]
  },
  {
   "cell_type": "code",
   "execution_count": 25,
   "metadata": {},
   "outputs": [],
   "source": [
    "def compute_metrics(c_matrices):\n",
    "    accuracies = {}\n",
    "\n",
    "    for model in c_matrices.keys():\n",
    "        accuracies[model] = {}\n",
    "        for group in c_matrices[model].keys():\n",
    "            accuracies[model][group] = compute_accuracy(c_matrices[model][group])\n",
    "            print(f'{model} {group} accuracy: {accuracies[model][group]}')\n",
    "    print('\\n')\n",
    "\n",
    "    # tpr \n",
    "    tprs = {}\n",
    "\n",
    "    for model in c_matrices.keys():\n",
    "        tprs[model] = {}\n",
    "        for group in c_matrices[model].keys():\n",
    "            tprs[model][group] = compute_true_positive_rate(c_matrices[model][group])\n",
    "            print(f'{model} {group} TPR: {tprs[model][group]}')\n",
    "    print('\\n')\n",
    "    \n",
    "    # tnr\n",
    "    tnrs = {}\n",
    "\n",
    "    for model in c_matrices.keys():\n",
    "        tnrs[model] = {}\n",
    "        for group in c_matrices[model].keys():\n",
    "            tnrs[model][group] = compute_true_negative_rate(c_matrices[model][group])\n",
    "            print(f'{model} {group} TNR: {tnrs[model][group]}')\n",
    "    print('\\n')\n",
    "\n",
    "    # statistical parity\n",
    "    statistical_parity = {}\n",
    "\n",
    "    for model in c_matrices.keys():\n",
    "        statistical_parity[model] = compute_statistical_parity(c_matrices[model]['White'], c_matrices[model]['Non-White'])\n",
    "        print(f'{model} statistical parity: {statistical_parity[model]}')\n",
    "    print('\\n')\n",
    "\n",
    "    # equalized odds\n",
    "    equalized_odds = {}\n",
    "\n",
    "    for model in c_matrices.keys():\n",
    "        equalized_odds[model] = compute_equalized_odds(c_matrices[model]['White'], c_matrices[model]['Non-White'])\n",
    "        print(f'{model} equalized odds: {equalized_odds[model]}')\n",
    "    print('\\n')"
   ]
  },
  {
   "cell_type": "code",
   "execution_count": 26,
   "metadata": {},
   "outputs": [],
   "source": [
    "c_matrices = {\n",
    "    'Logistic Regression': {\n",
    "        'All': lreg_confusion_matrix,\n",
    "        'White': lreg_w_confusion_matrix,\n",
    "        'Non-White': lreg_nw_confusion_matrix,\n",
    "    },\n",
    "    'Random Forest': {\n",
    "        'All': rforest_confusion_matrix,\n",
    "        'White': rforest_w_confusion_matrix,\n",
    "        'Non-White': rforest_nw_confusion_matrix,\n",
    "    }\n",
    "}\n"
   ]
  },
  {
   "cell_type": "code",
   "execution_count": 27,
   "metadata": {},
   "outputs": [
    {
     "name": "stdout",
     "output_type": "stream",
     "text": [
      "Logistic Regression All accuracy: 0.8927884615384616\n",
      "Logistic Regression White accuracy: 0.9190751445086706\n",
      "Logistic Regression Non-White accuracy: 0.7628571428571429\n",
      "Random Forest All accuracy: 0.8932692307692308\n",
      "Random Forest White accuracy: 0.9182080924855491\n",
      "Random Forest Non-White accuracy: 0.77\n",
      "\n",
      "\n",
      "Logistic Regression All TPR: 0.9761452968284088\n",
      "Logistic Regression White TPR: 0.9889971707010374\n",
      "Logistic Regression Non-White TPR: 0.8956692913385826\n",
      "Random Forest All TPR: 0.9804825155868799\n",
      "Random Forest White TPR: 0.9918264696636278\n",
      "Random Forest Non-White TPR: 0.9094488188976378\n",
      "\n",
      "\n",
      "Logistic Regression All TNR: 0.23991507430997877\n",
      "Logistic Regression White TNR: 0.12186379928315412\n",
      "Logistic Regression Non-White TNR: 0.4114583333333333\n",
      "Random Forest All TNR: 0.21019108280254778\n",
      "Random Forest White TNR: 0.07885304659498207\n",
      "Random Forest Non-White TNR: 0.4010416666666667\n",
      "\n",
      "\n",
      "Logistic Regression statistical parity: 0.09332787936245479\n",
      "Random Forest statistical parity: 0.08237765076598991\n",
      "\n",
      "\n",
      "Logistic Regression equalized odds: 0.382922413412634\n",
      "Random Forest equalized odds: 0.4045662708376745\n",
      "\n",
      "\n"
     ]
    }
   ],
   "source": [
    "compute_metrics(c_matrices)"
   ]
  },
  {
   "cell_type": "code",
   "execution_count": 28,
   "metadata": {},
   "outputs": [],
   "source": [
    "# computing abroca \n",
    "## adding prediction column to test dataframes\n",
    "# copy test_df\n",
    "test_df['lreg_proba'] = lreg_y_proba[:,1]\n",
    "test_df['rforest_proba'] = rforest_y_proba[:,1]\n",
    "\n",
    "# map pass_bar to 1 and 0\n",
    "test_df['pass_bar'] = test_df['pass_bar'].map({1.0: 1, 0.0: 0})\n",
    "\n",
    "## map race_White to white and non-white\n",
    "test_df['race_White'] = test_df['race_White'].map({1.0: 'White', 0.0: 'Non-White'})"
   ]
  },
  {
   "cell_type": "code",
   "execution_count": 29,
   "metadata": {},
   "outputs": [
    {
     "name": "stderr",
     "output_type": "stream",
     "text": [
      "/home/ra/Codes/qa_ai/src/compute_and_plot_abroca.py:170: IntegrationWarning: The maximum number of subdivisions (50) has been achieved.\n",
      "  If increasing the limit yields no improvement it is advised to analyze \n",
      "  the integrand in order to determine the difficulties.  If the position of a \n",
      "  local difficulty can be determined (singularity, discontinuity) one will \n",
      "  probably gain from splitting up the interval and calling the integrator \n",
      "  on the subranges.  Perhaps a special-purpose integrator should be used.\n",
      "  slice, _ = integrate.quad(f2, lb, ub, limit)\n"
     ]
    },
    {
     "data": {
      "image/png": "[encoded data removed]",
      "text/plain": [
       "<Figure size 500x400 with 1 Axes>"
      ]
     },
     "metadata": {},
     "output_type": "display_data"
    }
   ],
   "source": [
    "compute_abroca(\n",
    "    test_df, \n",
    "    pred_col='lreg_proba', \n",
    "    label_col='pass_bar', \n",
    "    p_attr_col='race_White', \n",
    "    np_p_attr_val='White', \n",
    "    plot_slices=True,\n",
    "    np_group_name = 'White',\n",
    "    p_group_name = 'Non-White')"
   ]
  },
  {
   "cell_type": "code",
   "execution_count": 30,
   "metadata": {},
   "outputs": [
    {
     "name": "stderr",
     "output_type": "stream",
     "text": [
      "/home/ra/Codes/qa_ai/src/compute_and_plot_abroca.py:170: IntegrationWarning: The maximum number of subdivisions (50) has been achieved.\n",
      "  If increasing the limit yields no improvement it is advised to analyze \n",
      "  the integrand in order to determine the difficulties.  If the position of a \n",
      "  local difficulty can be determined (singularity, discontinuity) one will \n",
      "  probably gain from splitting up the interval and calling the integrator \n",
      "  on the subranges.  Perhaps a special-purpose integrator should be used.\n",
      "  slice, _ = integrate.quad(f2, lb, ub, limit)\n"
     ]
    },
    {
     "data": {
      "image/png": "[encoded data removed]",
      "text/plain": [
       "<Figure size 500x400 with 1 Axes>"
      ]
     },
     "metadata": {},
     "output_type": "display_data"
    }
   ],
   "source": [
    "compute_abroca(\n",
    "    test_df, \n",
    "    pred_col='rforest_proba', \n",
    "    label_col='pass_bar', \n",
    "    p_attr_col='race_White', \n",
    "    np_p_attr_val='White', \n",
    "    plot_slices=True,\n",
    "    np_group_name = 'White',\n",
    "    p_group_name = 'Non-White')"
   ]
  },
  {
   "cell_type": "code",
   "execution_count": null,
   "metadata": {},
   "outputs": [],
   "source": []
  }
 ],
 "metadata": {
  "kernelspec": {
   "display_name": "py38",
   "language": "python",
   "name": "python3"
  },
  "language_info": {
   "codemirror_mode": {
    "name": "ipython",
    "version": 3
   },
   "file_extension": ".py",
   "mimetype": "text/x-python",
   "name": "python",
   "nbconvert_exporter": "python",
   "pygments_lexer": "ipython3",
   "version": "3.8.15"
  },
  "orig_nbformat": 4
 },
 "nbformat": 4,
 "nbformat_minor": 2
}
