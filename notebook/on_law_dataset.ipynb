{
 "cells": [
  {
   "cell_type": "code",
   "execution_count": 1,
   "metadata": {},
   "outputs": [
    {
     "name": "stdout",
     "output_type": "stream",
     "text": [
      "/home/ra/Codes/qa_ai\n"
     ]
    }
   ],
   "source": [
    "import os \n",
    "\n",
    "# move to project root\n",
    "while True:\n",
    "    if os.getcwd().split(\"/\")[-1] == \"qa_ai\":\n",
    "        break\n",
    "    else:\n",
    "        os.chdir(\"..\")\n",
    "\n",
    "print(os.getcwd())"
   ]
  },
  {
   "cell_type": "code",
   "execution_count": 2,
   "metadata": {},
   "outputs": [],
   "source": [
    "import numpy as np\n",
    "import pandas as pd \n",
    "\n",
    "import seaborn as sns\n",
    "import matplotlib.pyplot as plt\n",
    "\n",
    "from sklearn.preprocessing import StandardScaler \n",
    "from sklearn.linear_model import LogisticRegression\n",
    "from sklearn.ensemble import RandomForestClassifier\n",
    "from sklearn.metrics import confusion_matrix\n",
    "\n",
    "from src.compute_and_plot_abroca import compute_abroca"
   ]
  },
  {
   "cell_type": "code",
   "execution_count": 3,
   "metadata": {},
   "outputs": [],
   "source": [
    "# darkgrid, whitegrid, dark, white, ticks\n",
    "sns.set(style=\"ticks\", context=\"paper\")\n",
    "plt.style.use(\"dark_background\")"
   ]
  },
  {
   "attachments": {},
   "cell_type": "markdown",
   "metadata": {},
   "source": [
    "# Some Utils"
   ]
  },
  {
   "cell_type": "code",
   "execution_count": 4,
   "metadata": {},
   "outputs": [],
   "source": [
    "def compute_accuracy(confusion_matrix):\n",
    "    \"\"\"\n",
    "    Function to compute accuracy from confusion matrix\n",
    "    confusion_matrix - confusion matrix from sklearn.metrics.confusion_matrix\n",
    "    Returns accuracy\n",
    "    \"\"\"\n",
    "    return (confusion_matrix[0, 0] + confusion_matrix[1, 1]) / np.sum(confusion_matrix)"
   ]
  },
  {
   "cell_type": "code",
   "execution_count": 5,
   "metadata": {},
   "outputs": [],
   "source": [
    "def compute_true_positive_rate(confusion_matrix):\n",
    "    \"\"\"\n",
    "    Function to compute true positive rate from confusion matrix\n",
    "    confusion_matrix - confusion matrix from sklearn.metrics.confusion_matrix\n",
    "    Returns true positive rate\n",
    "    \"\"\"\n",
    "    return confusion_matrix[1, 1] / np.sum(confusion_matrix[1, :])"
   ]
  },
  {
   "cell_type": "code",
   "execution_count": 6,
   "metadata": {},
   "outputs": [],
   "source": [
    "def compute_true_negative_rate(confusion_matrix):\n",
    "    \"\"\"\n",
    "    Function to compute true negative rate from confusion matrix\n",
    "    confusion_matrix - confusion matrix from sklearn.metrics.confusion_matrix\n",
    "    Returns true negative rate\n",
    "    \"\"\"\n",
    "    return confusion_matrix[0, 0] / np.sum(confusion_matrix[0, :])"
   ]
  },
  {
   "cell_type": "code",
   "execution_count": 7,
   "metadata": {},
   "outputs": [],
   "source": [
    "def compute_statistical_parity(confusion_matrix_group_1, confusion_matrix_group_2):\n",
    "    \"\"\"\n",
    "    Function to compute statistical parity from confusion matrices of two groups\n",
    "    confusion_matrix_group_1 - confusion matrix from sklearn.metrics.confusion_matrix for group 1\n",
    "    confusion_matrix_group_2 - confusion matrix from sklearn.metrics.confusion_matrix for group 2\n",
    "    Returns statistical parity\n",
    "    \"\"\"\n",
    "    return compute_true_positive_rate(confusion_matrix_group_1) - compute_true_positive_rate(confusion_matrix_group_2)"
   ]
  },
  {
   "cell_type": "code",
   "execution_count": 8,
   "metadata": {},
   "outputs": [],
   "source": [
    "def compute_equalized_odds(confusion_matrix_group_1, confusion_matrix_group_2):\n",
    "    \"\"\"\n",
    "    Function to compute equalized odds from confusion matrices of two groups\n",
    "    confusion_matrix_group_1 - confusion matrix from sklearn.metrics.confusion_matrix for group 1\n",
    "    confusion_matrix_group_2 - confusion matrix from sklearn.metrics.confusion_matrix for group 2\n",
    "    Returns equalized odds\n",
    "    \"\"\"\n",
    "    return abs(\n",
    "        compute_true_positive_rate(confusion_matrix_group_1) - compute_true_positive_rate(confusion_matrix_group_2)\n",
    "    ) + abs(\n",
    "        compute_true_negative_rate(confusion_matrix_group_1) - compute_true_negative_rate(confusion_matrix_group_2)\n",
    "    )"
   ]
  },
  {
   "attachments": {},
   "cell_type": "markdown",
   "metadata": {},
   "source": [
    "# LAW DATASET"
   ]
  },
  {
   "attachments": {},
   "cell_type": "markdown",
   "metadata": {},
   "source": [
    "Structure\n",
    "1. Load data\n",
    "2. Data Visualization\n",
    "3. Preprocessing\n",
    "4. Model\n",
    "5. Evaluation\n",
    "6. Conclusion"
   ]
  },
  {
   "attachments": {},
   "cell_type": "markdown",
   "metadata": {},
   "source": [
    "## Loading dataset"
   ]
  },
  {
   "cell_type": "code",
   "execution_count": 9,
   "metadata": {},
   "outputs": [
    {
     "data": {
      "text/html": [
       "<div>\n",
       "<style scoped>\n",
       "    .dataframe tbody tr th:only-of-type {\n",
       "        vertical-align: middle;\n",
       "    }\n",
       "\n",
       "    .dataframe tbody tr th {\n",
       "        vertical-align: top;\n",
       "    }\n",
       "\n",
       "    .dataframe thead th {\n",
       "        text-align: right;\n",
       "    }\n",
       "</style>\n",
       "<table border=\"1\" class=\"dataframe\">\n",
       "  <thead>\n",
       "    <tr style=\"text-align: right;\">\n",
       "      <th></th>\n",
       "      <th>decile1b</th>\n",
       "      <th>decile3</th>\n",
       "      <th>lsat</th>\n",
       "      <th>ugpa</th>\n",
       "      <th>zfygpa</th>\n",
       "      <th>zgpa</th>\n",
       "      <th>fulltime</th>\n",
       "      <th>fam_inc</th>\n",
       "      <th>male</th>\n",
       "      <th>tier</th>\n",
       "      <th>race</th>\n",
       "      <th>pass_bar</th>\n",
       "    </tr>\n",
       "  </thead>\n",
       "  <tbody>\n",
       "    <tr>\n",
       "      <th>0</th>\n",
       "      <td>10.0</td>\n",
       "      <td>10.0</td>\n",
       "      <td>44.0</td>\n",
       "      <td>3.5</td>\n",
       "      <td>1.33</td>\n",
       "      <td>1.88</td>\n",
       "      <td>1.0</td>\n",
       "      <td>5.0</td>\n",
       "      <td>0.0</td>\n",
       "      <td>4.0</td>\n",
       "      <td>White</td>\n",
       "      <td>1.0</td>\n",
       "    </tr>\n",
       "    <tr>\n",
       "      <th>1</th>\n",
       "      <td>5.0</td>\n",
       "      <td>4.0</td>\n",
       "      <td>29.0</td>\n",
       "      <td>3.5</td>\n",
       "      <td>-0.11</td>\n",
       "      <td>-0.57</td>\n",
       "      <td>1.0</td>\n",
       "      <td>4.0</td>\n",
       "      <td>0.0</td>\n",
       "      <td>2.0</td>\n",
       "      <td>White</td>\n",
       "      <td>1.0</td>\n",
       "    </tr>\n",
       "    <tr>\n",
       "      <th>2</th>\n",
       "      <td>8.0</td>\n",
       "      <td>7.0</td>\n",
       "      <td>37.0</td>\n",
       "      <td>3.4</td>\n",
       "      <td>0.63</td>\n",
       "      <td>0.37</td>\n",
       "      <td>1.0</td>\n",
       "      <td>3.0</td>\n",
       "      <td>1.0</td>\n",
       "      <td>4.0</td>\n",
       "      <td>White</td>\n",
       "      <td>1.0</td>\n",
       "    </tr>\n",
       "    <tr>\n",
       "      <th>3</th>\n",
       "      <td>8.0</td>\n",
       "      <td>7.0</td>\n",
       "      <td>43.0</td>\n",
       "      <td>3.3</td>\n",
       "      <td>0.67</td>\n",
       "      <td>0.34</td>\n",
       "      <td>1.0</td>\n",
       "      <td>4.0</td>\n",
       "      <td>0.0</td>\n",
       "      <td>4.0</td>\n",
       "      <td>White</td>\n",
       "      <td>1.0</td>\n",
       "    </tr>\n",
       "    <tr>\n",
       "      <th>4</th>\n",
       "      <td>3.0</td>\n",
       "      <td>2.0</td>\n",
       "      <td>41.0</td>\n",
       "      <td>3.3</td>\n",
       "      <td>-0.67</td>\n",
       "      <td>-1.30</td>\n",
       "      <td>1.0</td>\n",
       "      <td>4.0</td>\n",
       "      <td>0.0</td>\n",
       "      <td>5.0</td>\n",
       "      <td>White</td>\n",
       "      <td>1.0</td>\n",
       "    </tr>\n",
       "  </tbody>\n",
       "</table>\n",
       "</div>"
      ],
      "text/plain": [
       "   decile1b  decile3  lsat  ugpa  zfygpa  zgpa  fulltime  fam_inc  male  tier  \\\n",
       "0      10.0     10.0  44.0   3.5    1.33  1.88       1.0      5.0   0.0   4.0   \n",
       "1       5.0      4.0  29.0   3.5   -0.11 -0.57       1.0      4.0   0.0   2.0   \n",
       "2       8.0      7.0  37.0   3.4    0.63  0.37       1.0      3.0   1.0   4.0   \n",
       "3       8.0      7.0  43.0   3.3    0.67  0.34       1.0      4.0   0.0   4.0   \n",
       "4       3.0      2.0  41.0   3.3   -0.67 -1.30       1.0      4.0   0.0   5.0   \n",
       "\n",
       "    race  pass_bar  \n",
       "0  White       1.0  \n",
       "1  White       1.0  \n",
       "2  White       1.0  \n",
       "3  White       1.0  \n",
       "4  White       1.0  "
      ]
     },
     "execution_count": 9,
     "metadata": {},
     "output_type": "execute_result"
    }
   ],
   "source": [
    "data_path = 'data/Homework3_dataset_law.csv'\n",
    "data_df = pd.read_csv(data_path)\n",
    "\n",
    "data_df.head()"
   ]
  },
  {
   "cell_type": "code",
   "execution_count": 10,
   "metadata": {},
   "outputs": [],
   "source": [
    "# dictionry of types of data\n",
    "numerical_features = {\n",
    "    'decile1b', \n",
    "    'decile3', \n",
    "    'lsat', \n",
    "    'ugpa', \n",
    "    'zfygpa', \n",
    "    'zgpa', }\n",
    "\n",
    "binary_features = {\n",
    "    'fulltime',\n",
    "    'male',\n",
    "    'race',}\n",
    "\n",
    "categorical_features = {\n",
    "    'fam_inc',\n",
    "    'tier'}"
   ]
  },
  {
   "attachments": {},
   "cell_type": "markdown",
   "metadata": {},
   "source": [
    "## Data Visualization and Statistics"
   ]
  },
  {
   "cell_type": "code",
   "execution_count": 11,
   "metadata": {},
   "outputs": [
    {
     "name": "stdout",
     "output_type": "stream",
     "text": [
      "total white data: 17491\n",
      "total non-white data: 3307\n"
     ]
    }
   ],
   "source": [
    "# compare number of white and non-white data\n",
    "white_df = data_df[data_df['race'] == 'White']\n",
    "n_white = white_df.shape[0]\n",
    "print(f'total white data: {n_white}')\n",
    "\n",
    "non_white_df = data_df[data_df['race']!='White']\n",
    "n_non_white = non_white_df.shape[0]\n",
    "print(f'total non-white data: {n_non_white}')"
   ]
  },
  {
   "cell_type": "code",
   "execution_count": 12,
   "metadata": {},
   "outputs": [
    {
     "name": "stdout",
     "output_type": "stream",
     "text": [
      "white passing bar exam: 16114\n",
      "non-white passing bar exam: 2391\n"
     ]
    }
   ],
   "source": [
    "n_passed_white = white_df[white_df['pass_bar'] == 1.0].shape[0] \n",
    "n_passed_non_white = non_white_df[non_white_df['pass_bar'] == 1.0].shape[0]\n",
    "\n",
    "print(f'white passing bar exam: {n_passed_white}')\n",
    "print(f'non-white passing bar exam: {n_passed_non_white}')"
   ]
  },
  {
   "cell_type": "code",
   "execution_count": 13,
   "metadata": {},
   "outputs": [
    {
     "name": "stdout",
     "output_type": "stream",
     "text": [
      "passing rate: 0.8897490143283008\n",
      "white passing rate: 0.921273797953233\n",
      "non-white passing rate: 0.7230117931660115\n"
     ]
    }
   ],
   "source": [
    "print(f'passing rate: {(n_passed_white + n_passed_non_white) / (n_white + n_non_white)}')\n",
    "print(f'white passing rate: {n_passed_white / n_white}')\n",
    "print(f'non-white passing rate: {n_passed_non_white/n_non_white}')"
   ]
  },
  {
   "cell_type": "code",
   "execution_count": 14,
   "metadata": {},
   "outputs": [
    {
     "data": {
      "image/png": "[encoded data removed]",
      "text/plain": [
       "<Figure size 608x500 with 1 Axes>"
      ]
     },
     "metadata": {},
     "output_type": "display_data"
    }
   ],
   "source": [
    "# plot distribution of lsat scores across races\n",
    "var = 'lsat'\n",
    "sns.displot(data=data_df, x=var, hue='race', kde=True, bins=20)\n",
    "plt.title(f'{var.upper()} score across Race')\n",
    "plt.show()"
   ]
  },
  {
   "cell_type": "code",
   "execution_count": 15,
   "metadata": {},
   "outputs": [
    {
     "data": {
      "image/png": "[encoded data removed]",
      "text/plain": [
       "<Figure size 608x500 with 1 Axes>"
      ]
     },
     "metadata": {},
     "output_type": "display_data"
    }
   ],
   "source": [
    "# plot distribution of lsat scores across races\n",
    "var = 'ugpa'\n",
    "sns.displot(data=data_df, x=var, hue='race', kde=True, bins=20)\n",
    "plt.title(f'{var.upper()} score across Race')\n",
    "plt.show()"
   ]
  },
  {
   "attachments": {},
   "cell_type": "markdown",
   "metadata": {},
   "source": [
    "## Pre-processing"
   ]
  },
  {
   "cell_type": "code",
   "execution_count": 16,
   "metadata": {},
   "outputs": [],
   "source": [
    "## Training Test Split\n",
    "train_df = data_df.sample(frac=0.8, random_state=42)\n",
    "test_df = data_df.drop(train_df.index)"
   ]
  },
  {
   "cell_type": "code",
   "execution_count": 17,
   "metadata": {},
   "outputs": [],
   "source": [
    "test_white_idx = test_df['race']=='White'\n",
    "test_nw_idx = test_df['race']!='White'"
   ]
  },
  {
   "cell_type": "code",
   "execution_count": 18,
   "metadata": {},
   "outputs": [],
   "source": [
    "# standardize numerical features\n",
    "for feature in numerical_features:\n",
    "    scaler = StandardScaler()\n",
    "    train_df[feature] = scaler.fit_transform(train_df[feature].values.reshape(-1,1))\n",
    "    test_df[feature] = scaler.transform(test_df[feature].values.reshape(-1,1))"
   ]
  },
  {
   "cell_type": "code",
   "execution_count": 19,
   "metadata": {},
   "outputs": [],
   "source": [
    "# one-hot encode categorical features\n",
    "for feature in categorical_features:\n",
    "    train_df = pd.concat([train_df, pd.get_dummies(train_df[feature], prefix=feature, dtype=float)], axis=1)\n",
    "    test_df = pd.concat([test_df, pd.get_dummies(test_df[feature], prefix=feature, dtype=float)], axis=1)\n",
    "\n",
    "    train_df.drop(feature, axis=1, inplace=True)\n",
    "    test_df.drop(feature, axis=1, inplace=True)"
   ]
  },
  {
   "cell_type": "code",
   "execution_count": 20,
   "metadata": {},
   "outputs": [],
   "source": [
    "# one hot encode binary features\n",
    "for feature in binary_features:\n",
    "    train_df = pd.concat([train_df, pd.get_dummies(train_df[feature], prefix=feature, dtype=float, drop_first=True)], axis=1)\n",
    "    test_df = pd.concat([test_df, pd.get_dummies(test_df[feature], prefix=feature, dtype=float, drop_first=True)], axis=1)\n",
    "\n",
    "    train_df.drop(feature, axis=1, inplace=True)\n",
    "    test_df.drop(feature, axis=1, inplace=True)"
   ]
  },
  {
   "cell_type": "code",
   "execution_count": 21,
   "metadata": {},
   "outputs": [],
   "source": [
    "test_white_df = test_df[test_white_idx]\n",
    "test_nw_df = test_df[test_nw_idx]"
   ]
  },
  {
   "attachments": {},
   "cell_type": "markdown",
   "metadata": {},
   "source": [
    "## Models"
   ]
  },
  {
   "attachments": {},
   "cell_type": "markdown",
   "metadata": {},
   "source": [
    "### Logistic Regression"
   ]
  },
  {
   "cell_type": "code",
   "execution_count": 22,
   "metadata": {},
   "outputs": [],
   "source": [
    "# create logistic regression instance\n",
    "lreg = LogisticRegression(penalty='l2')\n",
    "\n",
    "# fit model\n",
    "lreg.fit(train_df.drop('pass_bar', axis=1), train_df['pass_bar'])\n",
    "\n",
    "# get predictions on test set\n",
    "lreg_y_pred = lreg.predict(test_df.drop('pass_bar', axis=1))\n",
    "lreg_y_proba = lreg.predict_proba(test_df.drop('pass_bar', axis=1))\n",
    "\n",
    "lreg_w_y_pred = lreg.predict(test_white_df.drop('pass_bar', axis=1))\n",
    "lreg_nw_y_pred = lreg.predict(test_nw_df.drop('pass_bar', axis=1))\n",
    "\n",
    "# get confusion matrix\n",
    "lreg_confusion_matrix = confusion_matrix(test_df['pass_bar'], lreg_y_pred)\n",
    "lreg_w_confusion_matrix = confusion_matrix(test_white_df['pass_bar'], lreg_w_y_pred)\n",
    "lreg_nw_confusion_matrix = confusion_matrix(test_nw_df['pass_bar'], lreg_nw_y_pred)"
   ]
  },
  {
   "attachments": {},
   "cell_type": "markdown",
   "metadata": {},
   "source": [
    "### Random Forest"
   ]
  },
  {
   "cell_type": "code",
   "execution_count": 23,
   "metadata": {},
   "outputs": [],
   "source": [
    "rforest = RandomForestClassifier(n_estimators=100, max_depth=10, random_state=42)\n",
    "\n",
    "# fit model\n",
    "rforest.fit(train_df.drop('pass_bar', axis=1), train_df['pass_bar'])\n",
    "\n",
    "# get predictions on test set\n",
    "rforest_y_pred = rforest.predict(test_df.drop('pass_bar', axis=1))\n",
    "rforest_y_proba = rforest.predict_proba(test_df.drop('pass_bar', axis=1))\n",
    "\n",
    "rforest_w_y_pred = rforest.predict(test_white_df.drop('pass_bar', axis=1))\n",
    "rforest_nw_y_pred = rforest.predict(test_nw_df.drop('pass_bar', axis=1))\n",
    "\n",
    "# get confusion matrix\n",
    "rforest_confusion_matrix = confusion_matrix(test_df['pass_bar'], rforest_y_pred)\n",
    "rforest_w_confusion_matrix = confusion_matrix(test_white_df['pass_bar'], rforest_w_y_pred)\n",
    "rforest_nw_confusion_matrix = confusion_matrix(test_nw_df['pass_bar'], rforest_nw_y_pred)"
   ]
  },
  {
   "attachments": {},
   "cell_type": "markdown",
   "metadata": {},
   "source": [
    "## Metrics"
   ]
  },
  {
   "cell_type": "code",
   "execution_count": 24,
   "metadata": {},
   "outputs": [],
   "source": [
    "def compute_metrics(c_matrices, np_group='White', p_group='Non-White'):\n",
    "    accuracies = {}\n",
    "\n",
    "    for model in c_matrices.keys():\n",
    "        accuracies[model] = {}\n",
    "        for group in c_matrices[model].keys():\n",
    "            accuracies[model][group] = compute_accuracy(c_matrices[model][group])\n",
    "            print(f'{model} {group} accuracy: {accuracies[model][group]}')\n",
    "    print('\\n')\n",
    "\n",
    "    # tpr \n",
    "    tprs = {}\n",
    "\n",
    "    for model in c_matrices.keys():\n",
    "        tprs[model] = {}\n",
    "        for group in c_matrices[model].keys():\n",
    "            tprs[model][group] = compute_true_positive_rate(c_matrices[model][group])\n",
    "            print(f'{model} {group} TPR: {tprs[model][group]}')\n",
    "    print('\\n')\n",
    "    \n",
    "    # tnr\n",
    "    tnrs = {}\n",
    "\n",
    "    for model in c_matrices.keys():\n",
    "        tnrs[model] = {}\n",
    "        for group in c_matrices[model].keys():\n",
    "            tnrs[model][group] = compute_true_negative_rate(c_matrices[model][group])\n",
    "            print(f'{model} {group} TNR: {tnrs[model][group]}')\n",
    "    print('\\n')\n",
    "\n",
    "    # statistical parity\n",
    "    statistical_parity = {}\n",
    "\n",
    "    for model in c_matrices.keys():\n",
    "        statistical_parity[model] = compute_statistical_parity(c_matrices[model][np_group], c_matrices[model][p_group])\n",
    "        print(f'{model} statistical parity: {statistical_parity[model]}')\n",
    "    print('\\n')\n",
    "\n",
    "    # equalized odds\n",
    "    equalized_odds = {}\n",
    "\n",
    "    for model in c_matrices.keys():\n",
    "        equalized_odds[model] = compute_equalized_odds(c_matrices[model][np_group], c_matrices[model][p_group])\n",
    "        print(f'{model} equalized odds: {equalized_odds[model]}')\n",
    "    print('\\n')"
   ]
  },
  {
   "cell_type": "code",
   "execution_count": 25,
   "metadata": {},
   "outputs": [],
   "source": [
    "c_matrices = {\n",
    "    'Logistic Regression': {\n",
    "        'All': lreg_confusion_matrix,\n",
    "        'White': lreg_w_confusion_matrix,\n",
    "        'Non-White': lreg_nw_confusion_matrix,\n",
    "    },\n",
    "    'Random Forest': {\n",
    "        'All': rforest_confusion_matrix,\n",
    "        'White': rforest_w_confusion_matrix,\n",
    "        'Non-White': rforest_nw_confusion_matrix,\n",
    "    }\n",
    "}\n"
   ]
  },
  {
   "cell_type": "code",
   "execution_count": 26,
   "metadata": {},
   "outputs": [
    {
     "name": "stdout",
     "output_type": "stream",
     "text": [
      "Logistic Regression All accuracy: 0.8927884615384616\n",
      "Logistic Regression White accuracy: 0.9190751445086706\n",
      "Logistic Regression Non-White accuracy: 0.7628571428571429\n",
      "Random Forest All accuracy: 0.89375\n",
      "Random Forest White accuracy: 0.9184971098265896\n",
      "Random Forest Non-White accuracy: 0.7714285714285715\n",
      "\n",
      "\n",
      "Logistic Regression All TPR: 0.9761452968284088\n",
      "Logistic Regression White TPR: 0.9889971707010374\n",
      "Logistic Regression Non-White TPR: 0.8956692913385826\n",
      "Random Forest All TPR: 0.9802114394144754\n",
      "Random Forest White TPR: 0.9924552027664256\n",
      "Random Forest Non-White TPR: 0.9035433070866141\n",
      "\n",
      "\n",
      "Logistic Regression All TNR: 0.23991507430997877\n",
      "Logistic Regression White TNR: 0.12186379928315412\n",
      "Logistic Regression Non-White TNR: 0.4114583333333333\n",
      "Random Forest All TNR: 0.21656050955414013\n",
      "Random Forest White TNR: 0.07526881720430108\n",
      "Random Forest Non-White TNR: 0.421875\n",
      "\n",
      "\n",
      "Logistic Regression statistical parity: 0.09332787936245479\n",
      "Random Forest statistical parity: 0.0889118956798115\n",
      "\n",
      "\n",
      "Logistic Regression equalized odds: 0.382922413412634\n",
      "Random Forest equalized odds: 0.43551807847551044\n",
      "\n",
      "\n"
     ]
    }
   ],
   "source": [
    "compute_metrics(c_matrices)"
   ]
  },
  {
   "cell_type": "code",
   "execution_count": 27,
   "metadata": {},
   "outputs": [],
   "source": [
    "# computing abroca \n",
    "## adding prediction column to test dataframes\n",
    "# copy test_df\n",
    "test_df['lreg_proba'] = lreg_y_proba[:,1]\n",
    "test_df['rforest_proba'] = rforest_y_proba[:,1]\n",
    "\n",
    "# map pass_bar to 1 and 0\n",
    "test_df['pass_bar'] = test_df['pass_bar'].map({1.0: 1, 0.0: 0})\n",
    "\n",
    "## map race_White to white and non-white\n",
    "test_df['race_White'] = test_df['race_White'].map({1.0: 'White', 0.0: 'Non-White'})"
   ]
  },
  {
   "cell_type": "code",
   "execution_count": 28,
   "metadata": {},
   "outputs": [
    {
     "name": "stderr",
     "output_type": "stream",
     "text": [
      "/home/ra/Codes/qa_ai/src/compute_and_plot_abroca.py:170: IntegrationWarning: The maximum number of subdivisions (50) has been achieved.\n",
      "  If increasing the limit yields no improvement it is advised to analyze \n",
      "  the integrand in order to determine the difficulties.  If the position of a \n",
      "  local difficulty can be determined (singularity, discontinuity) one will \n",
      "  probably gain from splitting up the interval and calling the integrator \n",
      "  on the subranges.  Perhaps a special-purpose integrator should be used.\n",
      "  slice, _ = integrate.quad(f2, lb, ub, limit)\n"
     ]
    },
    {
     "data": {
      "image/png": "[encoded data removed]",
      "text/plain": [
       "<Figure size 500x400 with 1 Axes>"
      ]
     },
     "metadata": {},
     "output_type": "display_data"
    }
   ],
   "source": [
    "compute_abroca(\n",
    "    test_df, \n",
    "    pred_col='lreg_proba', \n",
    "    label_col='pass_bar', \n",
    "    p_attr_col='race_White', \n",
    "    np_p_attr_val='White', \n",
    "    plot_slices=True,\n",
    "    np_group_name = 'White',\n",
    "    p_group_name = 'Non-White')"
   ]
  },
  {
   "cell_type": "code",
   "execution_count": 29,
   "metadata": {},
   "outputs": [
    {
     "name": "stderr",
     "output_type": "stream",
     "text": [
      "/home/ra/Codes/qa_ai/src/compute_and_plot_abroca.py:170: IntegrationWarning: The maximum number of subdivisions (50) has been achieved.\n",
      "  If increasing the limit yields no improvement it is advised to analyze \n",
      "  the integrand in order to determine the difficulties.  If the position of a \n",
      "  local difficulty can be determined (singularity, discontinuity) one will \n",
      "  probably gain from splitting up the interval and calling the integrator \n",
      "  on the subranges.  Perhaps a special-purpose integrator should be used.\n",
      "  slice, _ = integrate.quad(f2, lb, ub, limit)\n"
     ]
    },
    {
     "data": {
      "image/png": "[encoded data removed]",
      "text/plain": [
       "<Figure size 500x400 with 1 Axes>"
      ]
     },
     "metadata": {},
     "output_type": "display_data"
    }
   ],
   "source": [
    "compute_abroca(\n",
    "    test_df, \n",
    "    pred_col='rforest_proba', \n",
    "    label_col='pass_bar', \n",
    "    p_attr_col='race_White', \n",
    "    np_p_attr_val='White', \n",
    "    plot_slices=True,\n",
    "    np_group_name = 'White',\n",
    "    p_group_name = 'Non-White')"
   ]
  },
  {
   "attachments": {},
   "cell_type": "markdown",
   "metadata": {},
   "source": [
    "## ANALYSIS"
   ]
  },
  {
   "attachments": {},
   "cell_type": "markdown",
   "metadata": {},
   "source": [
    "### Discrimination Assestment\n",
    "\n",
    "- Accuracies of both models are similar.\n",
    "- Both models demonstrate better prediction performance for non-protected groups.\n",
    "- True positive rates (TPR) are similar between the models but lower for protected groups.\n",
    "- True negative rates (TNR) are lower for both models compared to TPR.\n",
    "- There is a significant disparity in TNR between non-protected and protected groups, with the non-protected group having a lower TNR.\n",
    "- Both models more frequently predict the protected group as not successful.\n",
    "- Imbalance in class distribution significantly impacts model performance.\n",
    "- Logistic regression is considered less fair than random forest based on group parity and ABROCA fairness metrics.\n",
    "- Equalized odds metric suggests the opposite, likely due to the models relying on the positive class and resulting in lower TNR.\n",
    "- Equalized odds highlights the disparity in TNR compared to other metrics in this case.\n",
    "\n",
    "<!---\n",
    "The accuracies of both models are nearly identical. However, they demonstrate significantly better prediction for non-protected groups. Looking at the true positive rate (TPR), both models have similar figures, although they exhibit lower scores in the case of protected groups. In terms of the true negative rate (TNR), both models have lower scores compared to TPR. More importantly, both models show a considerable disparity between non-protected and protected groups, with the non-protected group having a lower TNR. This also means that both models predict the protected group to be classified as not successful more often.\n",
    "\n",
    "This confirms that an imbalance in class distribution has a significant impact on model performance. In this particular case, both models relied more heavily on the positive class. Additionally, the proportion of the positive class in the non-protected group is smaller. This can lead to the development of unfair models.\n",
    "\n",
    "Comparing fairness metrics, both group parity and ABROCA indicate that logistic regression is less fair than random forest. However, the equalized odds metric suggests the opposite. This difference could be due to the nature of these fairness measures. Group parity is based on positive predicted outcomes only, while ABROCA is based on prediction error, which measures disparity between different groups. Equalized odds, on the other hand, takes both TPR and TNR into account and measures the disparity of those across different groups. As mentioned earlier, the models tend to rely on the positive class, thus yielding lower TNR. Therefore, in this case, equalized odds highlights the disparity of TNR compared to the other metrics.\n",
    "-->"
   ]
  },
  {
   "attachments": {},
   "cell_type": "markdown",
   "metadata": {},
   "source": [
    "### Possible Mitigation\n",
    "Both models appear to have low true negative rates (TNR), indicating that they were optimized to predict positive classes. To improve this, one option is to decrease the threshold. Additionally, different threshold values can be applied to each group, allowing for fairness to be maintained at the expense of accuracy."
   ]
  },
  {
   "attachments": {},
   "cell_type": "markdown",
   "metadata": {},
   "source": [
    "### Comments\n",
    "#### On Fairness Metric Value Range\n",
    "Group parity is computed by comparing the TPR across different groups, resulting in a range of values from 1 to -1. Equalized odds sums up the differences of both TPR and NPR across groups; however, due to the absolute operator, the value can range between 0 and 2. ABROCA, on the other hand, measures the absolute difference between the AUROC of the protected and non-protected group, resulting in values ranging from 0 to 1.\n",
    "####  On The Balance of Class Distribution\n",
    "The Law dataset exhibits significant class imbalances, with a higher percentage of positive-labeled data (88%). Notably, the non-protected group is disproportionately affected, with 92% of its data being labeled as positive.\n",
    "#### On Advantages and Disadvantages of Fairness Metrics\n",
    "Group parity is the simplest approach and easier to interpret. However, since the metric only uses TPR and relies solely on predicted outcomes, it may not capture disparities on negative outcomes.\n",
    "\n",
    "Equalized odds, on the other hand, attempts to equalize both TPR and TNR. This may be more explanatory compared to group parity. However, including TNR would make the values harder to analyze since disparities can now arise from both sides.\n",
    "\n",
    "ABROCA measures the differences in AUROC between different groups. This approach tends to be more versatile since it removes the requirement of choosing a certain threshold. However, computing ABROCA is more complicated.\n",
    "#### On The Consistency Level of Fairness Metrics\n",
    "It is difficult to compare the consistency of fairness metrics because they use different measurements. However, differences can be seen in the value range of the metrics. Equalized odds tends to have a larger value compared to others, but the scale of the value does not indicate consistency. Therefore, it is important to consider before applying fairness.\n",
    "#### On Predictive Performance and Fairness Measures across Datasets\n",
    "Overall, both models perform better on the law dataset compared to the credit dataset. However, this could be due to the fact that the first dataset is relatively more imbalanced. As a result, both models disproportionately use positive-labeled data. As a result of this, fairness is relatively better for the second dataset since the balance is more pronounced.\n"
   ]
  },
  {
   "attachments": {},
   "cell_type": "markdown",
   "metadata": {},
   "source": [
    "# CREDIT DATASET"
   ]
  },
  {
   "cell_type": "code",
   "execution_count": 30,
   "metadata": {},
   "outputs": [
    {
     "data": {
      "text/html": [
       "<div>\n",
       "<style scoped>\n",
       "    .dataframe tbody tr th:only-of-type {\n",
       "        vertical-align: middle;\n",
       "    }\n",
       "\n",
       "    .dataframe tbody tr th {\n",
       "        vertical-align: top;\n",
       "    }\n",
       "\n",
       "    .dataframe thead th {\n",
       "        text-align: right;\n",
       "    }\n",
       "</style>\n",
       "<table border=\"1\" class=\"dataframe\">\n",
       "  <thead>\n",
       "    <tr style=\"text-align: right;\">\n",
       "      <th></th>\n",
       "      <th>checking-account</th>\n",
       "      <th>duration</th>\n",
       "      <th>credit-history</th>\n",
       "      <th>purpose</th>\n",
       "      <th>credit-amount</th>\n",
       "      <th>savings-account</th>\n",
       "      <th>employment-since</th>\n",
       "      <th>installment-rate</th>\n",
       "      <th>other-debtors</th>\n",
       "      <th>residence-since</th>\n",
       "      <th>...</th>\n",
       "      <th>other-installment</th>\n",
       "      <th>housing</th>\n",
       "      <th>existing-credits</th>\n",
       "      <th>job</th>\n",
       "      <th>number-maintenance</th>\n",
       "      <th>telephone</th>\n",
       "      <th>foreign-worker</th>\n",
       "      <th>sex</th>\n",
       "      <th>marital-status</th>\n",
       "      <th>class-label</th>\n",
       "    </tr>\n",
       "  </thead>\n",
       "  <tbody>\n",
       "    <tr>\n",
       "      <th>0</th>\n",
       "      <td>&lt;0 DM</td>\n",
       "      <td>6</td>\n",
       "      <td>critical account</td>\n",
       "      <td>radio/television</td>\n",
       "      <td>1169</td>\n",
       "      <td>no savings account</td>\n",
       "      <td>&gt;=7 years</td>\n",
       "      <td>4</td>\n",
       "      <td>none</td>\n",
       "      <td>4</td>\n",
       "      <td>...</td>\n",
       "      <td>none</td>\n",
       "      <td>own</td>\n",
       "      <td>2</td>\n",
       "      <td>skilled employee / official</td>\n",
       "      <td>1</td>\n",
       "      <td>yes</td>\n",
       "      <td>yes</td>\n",
       "      <td>male</td>\n",
       "      <td>divorced/separated</td>\n",
       "      <td>1</td>\n",
       "    </tr>\n",
       "    <tr>\n",
       "      <th>1</th>\n",
       "      <td>0 &lt;= &lt;200 DM</td>\n",
       "      <td>48</td>\n",
       "      <td>existing credits paid back duly till now</td>\n",
       "      <td>radio/television</td>\n",
       "      <td>5951</td>\n",
       "      <td>&lt;100 DM</td>\n",
       "      <td>1&lt;= &lt; 4 years</td>\n",
       "      <td>2</td>\n",
       "      <td>none</td>\n",
       "      <td>2</td>\n",
       "      <td>...</td>\n",
       "      <td>none</td>\n",
       "      <td>own</td>\n",
       "      <td>1</td>\n",
       "      <td>skilled employee / official</td>\n",
       "      <td>1</td>\n",
       "      <td>none</td>\n",
       "      <td>yes</td>\n",
       "      <td>female</td>\n",
       "      <td>divorced/separated</td>\n",
       "      <td>0</td>\n",
       "    </tr>\n",
       "    <tr>\n",
       "      <th>2</th>\n",
       "      <td>no account</td>\n",
       "      <td>12</td>\n",
       "      <td>critical account</td>\n",
       "      <td>education</td>\n",
       "      <td>2096</td>\n",
       "      <td>&lt;100 DM</td>\n",
       "      <td>4&lt;= &lt;7 years</td>\n",
       "      <td>2</td>\n",
       "      <td>none</td>\n",
       "      <td>3</td>\n",
       "      <td>...</td>\n",
       "      <td>none</td>\n",
       "      <td>own</td>\n",
       "      <td>1</td>\n",
       "      <td>unskilled - resident</td>\n",
       "      <td>2</td>\n",
       "      <td>none</td>\n",
       "      <td>yes</td>\n",
       "      <td>male</td>\n",
       "      <td>divorced/separated</td>\n",
       "      <td>1</td>\n",
       "    </tr>\n",
       "    <tr>\n",
       "      <th>3</th>\n",
       "      <td>&lt;0 DM</td>\n",
       "      <td>42</td>\n",
       "      <td>existing credits paid back duly till now</td>\n",
       "      <td>furniture/equipment</td>\n",
       "      <td>7882</td>\n",
       "      <td>&lt;100 DM</td>\n",
       "      <td>4&lt;= &lt;7 years</td>\n",
       "      <td>2</td>\n",
       "      <td>guarantor</td>\n",
       "      <td>4</td>\n",
       "      <td>...</td>\n",
       "      <td>none</td>\n",
       "      <td>for free</td>\n",
       "      <td>1</td>\n",
       "      <td>skilled employee / official</td>\n",
       "      <td>2</td>\n",
       "      <td>none</td>\n",
       "      <td>yes</td>\n",
       "      <td>male</td>\n",
       "      <td>divorced/separated</td>\n",
       "      <td>1</td>\n",
       "    </tr>\n",
       "    <tr>\n",
       "      <th>4</th>\n",
       "      <td>&lt;0 DM</td>\n",
       "      <td>24</td>\n",
       "      <td>delay in paying off</td>\n",
       "      <td>car (new)</td>\n",
       "      <td>4870</td>\n",
       "      <td>&lt;100 DM</td>\n",
       "      <td>1&lt;= &lt; 4 years</td>\n",
       "      <td>3</td>\n",
       "      <td>none</td>\n",
       "      <td>4</td>\n",
       "      <td>...</td>\n",
       "      <td>none</td>\n",
       "      <td>for free</td>\n",
       "      <td>2</td>\n",
       "      <td>skilled employee / official</td>\n",
       "      <td>2</td>\n",
       "      <td>none</td>\n",
       "      <td>yes</td>\n",
       "      <td>male</td>\n",
       "      <td>divorced/separated</td>\n",
       "      <td>0</td>\n",
       "    </tr>\n",
       "  </tbody>\n",
       "</table>\n",
       "<p>5 rows × 22 columns</p>\n",
       "</div>"
      ],
      "text/plain": [
       "  checking-account  duration                            credit-history  \\\n",
       "0            <0 DM         6                          critical account   \n",
       "1     0 <= <200 DM        48  existing credits paid back duly till now   \n",
       "2       no account        12                          critical account   \n",
       "3            <0 DM        42  existing credits paid back duly till now   \n",
       "4            <0 DM        24                       delay in paying off   \n",
       "\n",
       "               purpose  credit-amount     savings-account employment-since  \\\n",
       "0     radio/television           1169  no savings account        >=7 years   \n",
       "1     radio/television           5951             <100 DM    1<= < 4 years   \n",
       "2            education           2096             <100 DM     4<= <7 years   \n",
       "3  furniture/equipment           7882             <100 DM     4<= <7 years   \n",
       "4            car (new)           4870             <100 DM    1<= < 4 years   \n",
       "\n",
       "   installment-rate other-debtors  residence-since  ... other-installment  \\\n",
       "0                 4          none                4  ...              none   \n",
       "1                 2          none                2  ...              none   \n",
       "2                 2          none                3  ...              none   \n",
       "3                 2     guarantor                4  ...              none   \n",
       "4                 3          none                4  ...              none   \n",
       "\n",
       "    housing existing-credits                          job  number-maintenance  \\\n",
       "0       own                2  skilled employee / official                   1   \n",
       "1       own                1  skilled employee / official                   1   \n",
       "2       own                1         unskilled - resident                   2   \n",
       "3  for free                1  skilled employee / official                   2   \n",
       "4  for free                2  skilled employee / official                   2   \n",
       "\n",
       "  telephone  foreign-worker     sex      marital-status class-label  \n",
       "0       yes             yes    male  divorced/separated           1  \n",
       "1      none             yes  female  divorced/separated           0  \n",
       "2      none             yes    male  divorced/separated           1  \n",
       "3      none             yes    male  divorced/separated           1  \n",
       "4      none             yes    male  divorced/separated           0  \n",
       "\n",
       "[5 rows x 22 columns]"
      ]
     },
     "execution_count": 30,
     "metadata": {},
     "output_type": "execute_result"
    }
   ],
   "source": [
    "data_path = 'data/Homework3_dataset_credit.csv'\n",
    "data_df = pd.read_csv(data_path)\n",
    "\n",
    "data_df.head()"
   ]
  },
  {
   "cell_type": "code",
   "execution_count": 31,
   "metadata": {},
   "outputs": [],
   "source": [
    "# adding age older than 25 column\n",
    "data_df[\"older\"] = data_df[\"age\"] > 25"
   ]
  },
  {
   "cell_type": "code",
   "execution_count": 32,
   "metadata": {},
   "outputs": [],
   "source": [
    "# dictionry of types of data\n",
    "numerical_features = {\n",
    "    'duration',\n",
    "    'credit-amount',\n",
    "    'installment-rate',\n",
    "    'residence-since',\n",
    "    'age',\n",
    "    'existing-credits',\n",
    "    'number-maintenance',\n",
    "     }\n",
    "\n",
    "binary_features = {\n",
    "    'telephone',\n",
    "    'foreign-worker',\n",
    "    'older',\n",
    "    }\n",
    "\n",
    "categorical_features = {\n",
    "    'checking-account',\n",
    "    'credit-history',\n",
    "    'purpose',\n",
    "    'savings-account',\n",
    "    'employment-since',\n",
    "    'other-debtors',\n",
    "    'property',\n",
    "    'other-installment',\n",
    "    'housing',\n",
    "    'job',\n",
    "    'sex',\n",
    "    'marital-status',\n",
    "    }"
   ]
  },
  {
   "attachments": {},
   "cell_type": "markdown",
   "metadata": {},
   "source": [
    "## Data Visualization"
   ]
  },
  {
   "cell_type": "code",
   "execution_count": 33,
   "metadata": {},
   "outputs": [
    {
     "name": "stdout",
     "output_type": "stream",
     "text": [
      "total older data: 810\n",
      "total younger data: 190\n"
     ]
    }
   ],
   "source": [
    "# compate number of olders and youngers\n",
    "older_df = data_df[data_df['older'] == True]\n",
    "n_older = older_df.shape[0]\n",
    "print(f'total older data: {n_older}')\n",
    "\n",
    "younger_df = data_df[data_df['older'] == False]\n",
    "n_younger = younger_df.shape[0]\n",
    "print(f'total younger data: {n_younger}')\n"
   ]
  },
  {
   "cell_type": "code",
   "execution_count": 34,
   "metadata": {},
   "outputs": [
    {
     "name": "stdout",
     "output_type": "stream",
     "text": [
      "older accepted number: 590\n",
      "younger accepted number: 110\n"
     ]
    }
   ],
   "source": [
    "n_passed_old = older_df[older_df['class-label'] == 1.0].shape[0]\n",
    "n_passed_young = younger_df[younger_df['class-label'] == 1.0].shape[0]\n",
    "\n",
    "print(f'older accepted number: {n_passed_old}')\n",
    "print(f'younger accepted number: {n_passed_young}')"
   ]
  },
  {
   "cell_type": "code",
   "execution_count": 35,
   "metadata": {},
   "outputs": [
    {
     "name": "stdout",
     "output_type": "stream",
     "text": [
      "all accepted rate: 590.11\n",
      "older accepted rate: 0.7283950617283951\n",
      "younger accepted rate: 0.5789473684210527\n"
     ]
    }
   ],
   "source": [
    "print(f'all accepted rate: {n_passed_old + n_passed_young / (n_older + n_younger)}')\n",
    "print(f'older accepted rate: {n_passed_old / n_older}')\n",
    "print(f'younger accepted rate: {n_passed_young / n_younger}')"
   ]
  },
  {
   "cell_type": "code",
   "execution_count": 36,
   "metadata": {},
   "outputs": [
    {
     "data": {
      "image/png": "[encoded data removed]",
      "text/plain": [
       "<Figure size 574.625x500 with 1 Axes>"
      ]
     },
     "metadata": {},
     "output_type": "display_data"
    }
   ],
   "source": [
    "# plot distribution of lsat scores across races\n",
    "var = 'credit-amount'\n",
    "sns.displot(data=data_df, x=var, hue='older', kde=True, bins=20)\n",
    "plt.title(f'{var.upper()} score across Age')\n",
    "plt.show()"
   ]
  },
  {
   "attachments": {},
   "cell_type": "markdown",
   "metadata": {},
   "source": [
    "## Pre-processing"
   ]
  },
  {
   "cell_type": "code",
   "execution_count": 37,
   "metadata": {},
   "outputs": [],
   "source": [
    "## Training Test Split\n",
    "train_df = data_df.sample(frac=0.8, random_state=42)\n",
    "test_df = data_df.drop(train_df.index)"
   ]
  },
  {
   "cell_type": "code",
   "execution_count": 38,
   "metadata": {},
   "outputs": [],
   "source": [
    "older_idx = test_df['older'] == True\n",
    "younger_idx = test_df['older'] == False"
   ]
  },
  {
   "cell_type": "code",
   "execution_count": 39,
   "metadata": {},
   "outputs": [],
   "source": [
    "# standardize numerical features\n",
    "for feature in numerical_features:\n",
    "    scaler = StandardScaler()\n",
    "    train_df[feature] = scaler.fit_transform(train_df[feature].values.reshape(-1,1))\n",
    "    test_df[feature] = scaler.transform(test_df[feature].values.reshape(-1,1))"
   ]
  },
  {
   "cell_type": "code",
   "execution_count": 40,
   "metadata": {},
   "outputs": [],
   "source": [
    "# one-hot encode categorical features\n",
    "for feature in categorical_features:\n",
    "    train_df = pd.concat([train_df, pd.get_dummies(train_df[feature], prefix=feature, dtype=float)], axis=1)\n",
    "    test_df = pd.concat([test_df, pd.get_dummies(test_df[feature], prefix=feature, dtype=float)], axis=1)\n",
    "\n",
    "    train_df.drop(feature, axis=1, inplace=True)\n",
    "    test_df.drop(feature, axis=1, inplace=True)"
   ]
  },
  {
   "cell_type": "code",
   "execution_count": 41,
   "metadata": {},
   "outputs": [
    {
     "data": {
      "text/html": [
       "<div>\n",
       "<style scoped>\n",
       "    .dataframe tbody tr th:only-of-type {\n",
       "        vertical-align: middle;\n",
       "    }\n",
       "\n",
       "    .dataframe tbody tr th {\n",
       "        vertical-align: top;\n",
       "    }\n",
       "\n",
       "    .dataframe thead th {\n",
       "        text-align: right;\n",
       "    }\n",
       "</style>\n",
       "<table border=\"1\" class=\"dataframe\">\n",
       "  <thead>\n",
       "    <tr style=\"text-align: right;\">\n",
       "      <th></th>\n",
       "      <th>duration</th>\n",
       "      <th>credit-amount</th>\n",
       "      <th>installment-rate</th>\n",
       "      <th>residence-since</th>\n",
       "      <th>age</th>\n",
       "      <th>existing-credits</th>\n",
       "      <th>number-maintenance</th>\n",
       "      <th>telephone</th>\n",
       "      <th>foreign-worker</th>\n",
       "      <th>class-label</th>\n",
       "      <th>...</th>\n",
       "      <th>property_car or other</th>\n",
       "      <th>property_real estate</th>\n",
       "      <th>property_savings agreement/life insurance</th>\n",
       "      <th>property_unknown / no property</th>\n",
       "      <th>sex_female</th>\n",
       "      <th>sex_male</th>\n",
       "      <th>job_management/ highly qualified employee</th>\n",
       "      <th>job_skilled employee / official</th>\n",
       "      <th>job_unemployed/ unskilled  - non-resident</th>\n",
       "      <th>job_unskilled - resident</th>\n",
       "    </tr>\n",
       "  </thead>\n",
       "  <tbody>\n",
       "    <tr>\n",
       "      <th>521</th>\n",
       "      <td>-0.248354</td>\n",
       "      <td>-0.033686</td>\n",
       "      <td>-0.854740</td>\n",
       "      <td>-0.771088</td>\n",
       "      <td>-1.016476</td>\n",
       "      <td>-0.695132</td>\n",
       "      <td>-0.438464</td>\n",
       "      <td>none</td>\n",
       "      <td>yes</td>\n",
       "      <td>0</td>\n",
       "      <td>...</td>\n",
       "      <td>0.0</td>\n",
       "      <td>1.0</td>\n",
       "      <td>0.0</td>\n",
       "      <td>0.0</td>\n",
       "      <td>1.0</td>\n",
       "      <td>0.0</td>\n",
       "      <td>0.0</td>\n",
       "      <td>1.0</td>\n",
       "      <td>0.0</td>\n",
       "      <td>0.0</td>\n",
       "    </tr>\n",
       "    <tr>\n",
       "      <th>737</th>\n",
       "      <td>-0.248354</td>\n",
       "      <td>0.392868</td>\n",
       "      <td>0.034456</td>\n",
       "      <td>1.029993</td>\n",
       "      <td>-0.057125</td>\n",
       "      <td>-0.695132</td>\n",
       "      <td>2.280691</td>\n",
       "      <td>yes</td>\n",
       "      <td>yes</td>\n",
       "      <td>1</td>\n",
       "      <td>...</td>\n",
       "      <td>1.0</td>\n",
       "      <td>0.0</td>\n",
       "      <td>0.0</td>\n",
       "      <td>0.0</td>\n",
       "      <td>0.0</td>\n",
       "      <td>1.0</td>\n",
       "      <td>0.0</td>\n",
       "      <td>0.0</td>\n",
       "      <td>0.0</td>\n",
       "      <td>1.0</td>\n",
       "    </tr>\n",
       "    <tr>\n",
       "      <th>740</th>\n",
       "      <td>0.239013</td>\n",
       "      <td>-0.343744</td>\n",
       "      <td>-0.854740</td>\n",
       "      <td>0.129453</td>\n",
       "      <td>-0.318766</td>\n",
       "      <td>-0.695132</td>\n",
       "      <td>-0.438464</td>\n",
       "      <td>none</td>\n",
       "      <td>yes</td>\n",
       "      <td>1</td>\n",
       "      <td>...</td>\n",
       "      <td>1.0</td>\n",
       "      <td>0.0</td>\n",
       "      <td>0.0</td>\n",
       "      <td>0.0</td>\n",
       "      <td>0.0</td>\n",
       "      <td>1.0</td>\n",
       "      <td>0.0</td>\n",
       "      <td>1.0</td>\n",
       "      <td>0.0</td>\n",
       "      <td>0.0</td>\n",
       "    </tr>\n",
       "    <tr>\n",
       "      <th>660</th>\n",
       "      <td>-0.735722</td>\n",
       "      <td>-0.712229</td>\n",
       "      <td>0.034456</td>\n",
       "      <td>1.029993</td>\n",
       "      <td>-1.103690</td>\n",
       "      <td>-0.695132</td>\n",
       "      <td>-0.438464</td>\n",
       "      <td>none</td>\n",
       "      <td>yes</td>\n",
       "      <td>1</td>\n",
       "      <td>...</td>\n",
       "      <td>0.0</td>\n",
       "      <td>1.0</td>\n",
       "      <td>0.0</td>\n",
       "      <td>0.0</td>\n",
       "      <td>0.0</td>\n",
       "      <td>1.0</td>\n",
       "      <td>0.0</td>\n",
       "      <td>1.0</td>\n",
       "      <td>0.0</td>\n",
       "      <td>0.0</td>\n",
       "    </tr>\n",
       "    <tr>\n",
       "      <th>411</th>\n",
       "      <td>0.970064</td>\n",
       "      <td>1.422691</td>\n",
       "      <td>0.034456</td>\n",
       "      <td>-0.771088</td>\n",
       "      <td>-0.057125</td>\n",
       "      <td>1.053628</td>\n",
       "      <td>-0.438464</td>\n",
       "      <td>yes</td>\n",
       "      <td>yes</td>\n",
       "      <td>1</td>\n",
       "      <td>...</td>\n",
       "      <td>1.0</td>\n",
       "      <td>0.0</td>\n",
       "      <td>0.0</td>\n",
       "      <td>0.0</td>\n",
       "      <td>0.0</td>\n",
       "      <td>1.0</td>\n",
       "      <td>1.0</td>\n",
       "      <td>0.0</td>\n",
       "      <td>0.0</td>\n",
       "      <td>0.0</td>\n",
       "    </tr>\n",
       "  </tbody>\n",
       "</table>\n",
       "<p>5 rows × 61 columns</p>\n",
       "</div>"
      ],
      "text/plain": [
       "     duration  credit-amount  installment-rate  residence-since       age  \\\n",
       "521 -0.248354      -0.033686         -0.854740        -0.771088 -1.016476   \n",
       "737 -0.248354       0.392868          0.034456         1.029993 -0.057125   \n",
       "740  0.239013      -0.343744         -0.854740         0.129453 -0.318766   \n",
       "660 -0.735722      -0.712229          0.034456         1.029993 -1.103690   \n",
       "411  0.970064       1.422691          0.034456        -0.771088 -0.057125   \n",
       "\n",
       "     existing-credits  number-maintenance telephone foreign-worker  \\\n",
       "521         -0.695132           -0.438464      none            yes   \n",
       "737         -0.695132            2.280691       yes            yes   \n",
       "740         -0.695132           -0.438464      none            yes   \n",
       "660         -0.695132           -0.438464      none            yes   \n",
       "411          1.053628           -0.438464       yes            yes   \n",
       "\n",
       "     class-label  ...  property_car or other  property_real estate  \\\n",
       "521            0  ...                    0.0                   1.0   \n",
       "737            1  ...                    1.0                   0.0   \n",
       "740            1  ...                    1.0                   0.0   \n",
       "660            1  ...                    0.0                   1.0   \n",
       "411            1  ...                    1.0                   0.0   \n",
       "\n",
       "     property_savings agreement/life insurance  \\\n",
       "521                                        0.0   \n",
       "737                                        0.0   \n",
       "740                                        0.0   \n",
       "660                                        0.0   \n",
       "411                                        0.0   \n",
       "\n",
       "     property_unknown / no property  sex_female  sex_male  \\\n",
       "521                             0.0         1.0       0.0   \n",
       "737                             0.0         0.0       1.0   \n",
       "740                             0.0         0.0       1.0   \n",
       "660                             0.0         0.0       1.0   \n",
       "411                             0.0         0.0       1.0   \n",
       "\n",
       "     job_management/ highly qualified employee  \\\n",
       "521                                        0.0   \n",
       "737                                        0.0   \n",
       "740                                        0.0   \n",
       "660                                        0.0   \n",
       "411                                        1.0   \n",
       "\n",
       "     job_skilled employee / official  \\\n",
       "521                              1.0   \n",
       "737                              0.0   \n",
       "740                              1.0   \n",
       "660                              1.0   \n",
       "411                              0.0   \n",
       "\n",
       "     job_unemployed/ unskilled  - non-resident  job_unskilled - resident  \n",
       "521                                        0.0                       0.0  \n",
       "737                                        0.0                       1.0  \n",
       "740                                        0.0                       0.0  \n",
       "660                                        0.0                       0.0  \n",
       "411                                        0.0                       0.0  \n",
       "\n",
       "[5 rows x 61 columns]"
      ]
     },
     "execution_count": 41,
     "metadata": {},
     "output_type": "execute_result"
    }
   ],
   "source": [
    "train_df.head()"
   ]
  },
  {
   "cell_type": "code",
   "execution_count": 42,
   "metadata": {},
   "outputs": [],
   "source": [
    "# one hot encode binary features\n",
    "for feature in binary_features:\n",
    "    train_df = pd.concat([train_df, pd.get_dummies(train_df[feature], prefix=feature, dtype=float, drop_first=True)], axis=1)\n",
    "    test_df = pd.concat([test_df, pd.get_dummies(test_df[feature], prefix=feature, dtype=float, drop_first=True)], axis=1)\n",
    "\n",
    "    train_df.drop(feature, axis=1, inplace=True)\n",
    "    test_df.drop(feature, axis=1, inplace=True)"
   ]
  },
  {
   "cell_type": "code",
   "execution_count": 43,
   "metadata": {},
   "outputs": [],
   "source": [
    "test_older_df = test_df[older_idx]\n",
    "test_younger_df = test_df[younger_idx]"
   ]
  },
  {
   "attachments": {},
   "cell_type": "markdown",
   "metadata": {},
   "source": [
    "## Models"
   ]
  },
  {
   "attachments": {},
   "cell_type": "markdown",
   "metadata": {},
   "source": [
    "### Logistic Regression"
   ]
  },
  {
   "cell_type": "code",
   "execution_count": 44,
   "metadata": {},
   "outputs": [],
   "source": [
    "target_label = 'class-label'\n",
    "# create logistic regression instance\n",
    "lreg = LogisticRegression(penalty='l2')\n",
    "\n",
    "# fit model\n",
    "lreg.fit(train_df.drop(target_label, axis=1), train_df[target_label])\n",
    "\n",
    "# get predictions on test set\n",
    "lreg_y_pred = lreg.predict(test_df.drop(target_label, axis=1))\n",
    "lreg_y_proba = lreg.predict_proba(test_df.drop(target_label, axis=1))\n",
    "\n",
    "lreg_w_y_pred = lreg.predict(test_older_df.drop(target_label, axis=1))\n",
    "lreg_nw_y_pred = lreg.predict(test_younger_df.drop(target_label, axis=1))\n",
    "\n",
    "# get confusion matrix\n",
    "lreg_confusion_matrix = confusion_matrix(test_df[target_label], lreg_y_pred)\n",
    "lreg_w_confusion_matrix = confusion_matrix(test_older_df[target_label], lreg_w_y_pred)\n",
    "lreg_nw_confusion_matrix = confusion_matrix(test_younger_df[target_label], lreg_nw_y_pred)"
   ]
  },
  {
   "attachments": {},
   "cell_type": "markdown",
   "metadata": {},
   "source": [
    "## Random Forest"
   ]
  },
  {
   "cell_type": "code",
   "execution_count": 45,
   "metadata": {},
   "outputs": [],
   "source": [
    "rforest = RandomForestClassifier(n_estimators=100, max_depth=10, random_state=42)\n",
    "\n",
    "# fit model\n",
    "rforest.fit(train_df.drop(target_label, axis=1), train_df[target_label])\n",
    "\n",
    "# get predictions on test set\n",
    "rforest_y_pred = rforest.predict(test_df.drop(target_label, axis=1))\n",
    "rforest_y_proba = rforest.predict_proba(test_df.drop(target_label, axis=1))\n",
    "\n",
    "rforest_w_y_pred = rforest.predict(test_older_df.drop(target_label, axis=1))\n",
    "rforest_nw_y_pred = rforest.predict(test_younger_df.drop(target_label, axis=1))\n",
    "\n",
    "# get confusion matrix\n",
    "rforest_confusion_matrix = confusion_matrix(test_df[target_label], rforest_y_pred)\n",
    "rforest_w_confusion_matrix = confusion_matrix(test_older_df[target_label], rforest_w_y_pred)\n",
    "rforest_nw_confusion_matrix = confusion_matrix(test_younger_df[target_label], rforest_nw_y_pred)"
   ]
  },
  {
   "attachments": {},
   "cell_type": "markdown",
   "metadata": {},
   "source": [
    "## Metrics"
   ]
  },
  {
   "cell_type": "code",
   "execution_count": 46,
   "metadata": {},
   "outputs": [
    {
     "name": "stdout",
     "output_type": "stream",
     "text": [
      "Logistic Regression All accuracy: 0.745\n",
      "Logistic Regression Older accuracy: 0.7531645569620253\n",
      "Logistic Regression Younger accuracy: 0.7142857142857143\n",
      "Random Forest All accuracy: 0.785\n",
      "Random Forest Older accuracy: 0.8037974683544303\n",
      "Random Forest Younger accuracy: 0.7142857142857143\n",
      "\n",
      "\n",
      "Logistic Regression All TPR: 0.8571428571428571\n",
      "Logistic Regression Older TPR: 0.85\n",
      "Logistic Regression Younger TPR: 0.9\n",
      "Random Forest All TPR: 0.9357142857142857\n",
      "Random Forest Older TPR: 0.9333333333333333\n",
      "Random Forest Younger TPR: 0.95\n",
      "\n",
      "\n",
      "Logistic Regression All TNR: 0.48333333333333334\n",
      "Logistic Regression Older TNR: 0.4473684210526316\n",
      "Logistic Regression Younger TNR: 0.5454545454545454\n",
      "Random Forest All TNR: 0.43333333333333335\n",
      "Random Forest Older TNR: 0.39473684210526316\n",
      "Random Forest Younger TNR: 0.5\n",
      "\n",
      "\n",
      "Logistic Regression statistical parity: -0.050000000000000044\n",
      "Random Forest statistical parity: -0.016666666666666607\n",
      "\n",
      "\n",
      "Logistic Regression equalized odds: 0.14808612440191388\n",
      "Random Forest equalized odds: 0.12192982456140344\n",
      "\n",
      "\n"
     ]
    }
   ],
   "source": [
    "c_matrices = {\n",
    "    'Logistic Regression': {\n",
    "        'All': lreg_confusion_matrix,\n",
    "        'Older': lreg_w_confusion_matrix,\n",
    "        'Younger': lreg_nw_confusion_matrix,\n",
    "    },\n",
    "    'Random Forest': {\n",
    "        'All': rforest_confusion_matrix,\n",
    "        'Older': rforest_w_confusion_matrix,\n",
    "        'Younger': rforest_nw_confusion_matrix,\n",
    "    }\n",
    "}\n",
    "compute_metrics(c_matrices, np_group='Older', p_group='Younger')\n"
   ]
  },
  {
   "cell_type": "code",
   "execution_count": 47,
   "metadata": {},
   "outputs": [],
   "source": [
    "# computing abroca \n",
    "## adding prediction column to test dataframes\n",
    "# copy test_df\n",
    "test_df_abroca = test_df.copy()\n",
    "\n",
    "test_df_abroca['lreg_proba'] = lreg_y_proba[:,1]\n",
    "test_df_abroca['rforest_proba'] = rforest_y_proba[:,1]\n",
    "\n",
    "# map pass_bar to 1 and 0\n",
    "test_df_abroca[target_label] = test_df_abroca[target_label].map({1.0: 1, 0.0: 0})\n",
    "\n",
    "## map race_White to white and non-white\n",
    "test_df_abroca['older_True'] = test_df_abroca['older_True'].map({1.0: 'Older', 0.0: 'Younger'})"
   ]
  },
  {
   "cell_type": "code",
   "execution_count": 48,
   "metadata": {},
   "outputs": [
    {
     "name": "stderr",
     "output_type": "stream",
     "text": [
      "/home/ra/Codes/qa_ai/src/compute_and_plot_abroca.py:170: IntegrationWarning: The maximum number of subdivisions (50) has been achieved.\n",
      "  If increasing the limit yields no improvement it is advised to analyze \n",
      "  the integrand in order to determine the difficulties.  If the position of a \n",
      "  local difficulty can be determined (singularity, discontinuity) one will \n",
      "  probably gain from splitting up the interval and calling the integrator \n",
      "  on the subranges.  Perhaps a special-purpose integrator should be used.\n",
      "  slice, _ = integrate.quad(f2, lb, ub, limit)\n"
     ]
    },
    {
     "data": {
      "image/png": "[encoded data removed]",
      "text/plain": [
       "<Figure size 500x400 with 1 Axes>"
      ]
     },
     "metadata": {},
     "output_type": "display_data"
    }
   ],
   "source": [
    "compute_abroca(\n",
    "    test_df_abroca, \n",
    "    pred_col='lreg_proba', \n",
    "    label_col=target_label, \n",
    "    p_attr_col='older_True', \n",
    "    np_p_attr_val='Older', \n",
    "    plot_slices=True,\n",
    "    np_group_name = 'Older',\n",
    "    p_group_name = 'Younger')"
   ]
  },
  {
   "cell_type": "code",
   "execution_count": 49,
   "metadata": {},
   "outputs": [
    {
     "name": "stderr",
     "output_type": "stream",
     "text": [
      "/home/ra/Codes/qa_ai/src/compute_and_plot_abroca.py:170: IntegrationWarning: The maximum number of subdivisions (50) has been achieved.\n",
      "  If increasing the limit yields no improvement it is advised to analyze \n",
      "  the integrand in order to determine the difficulties.  If the position of a \n",
      "  local difficulty can be determined (singularity, discontinuity) one will \n",
      "  probably gain from splitting up the interval and calling the integrator \n",
      "  on the subranges.  Perhaps a special-purpose integrator should be used.\n",
      "  slice, _ = integrate.quad(f2, lb, ub, limit)\n"
     ]
    },
    {
     "data": {
      "image/png": "[encoded data removed]",
      "text/plain": [
       "<Figure size 500x400 with 1 Axes>"
      ]
     },
     "metadata": {},
     "output_type": "display_data"
    }
   ],
   "source": [
    "compute_abroca(\n",
    "    test_df_abroca, \n",
    "    pred_col='rforest_proba', \n",
    "    label_col=target_label, \n",
    "    p_attr_col='older_True', \n",
    "    np_p_attr_val='Older', \n",
    "    plot_slices=True,\n",
    "    np_group_name = 'Older',\n",
    "    p_group_name = 'Younger')"
   ]
  },
  {
   "attachments": {},
   "cell_type": "markdown",
   "metadata": {},
   "source": [
    "## ANALYSIS\n",
    "### Discrimination \n",
    "- Random Forest outperformed Logistic Regression in accuracy overall.\n",
    "- Logistic Regression performed better for the older group, while Random Forest achieved higher accuracies for both older and younger groups.\n",
    "- Random Forest had better performance in predicting the positive class, especially for the younger group, while Logistic Regression performed better in predicting negative classes.\n",
    "- Both models faced class imbalance issues, with disparities between true positive and true negative rates.\n",
    "- The models performed better with younger data, which had a more balanced class distribution.\n",
    "- Random Forest was slightly fairer than Logistic Regression based on fairness metrics.\n",
    "- Both models showed similar fairness performance in terms of statistical parity and ABROCA.\n",
    "- Despite some data imbalances, both models exhibited the same level of fairness, likely due to balanced positive and negative classes within each group.\n",
    "<!---\n",
    "In terms of accuracy, Random Forest slightly outperformed Logistic Regression overall. However, when considering different age groups, Logistic Regression performed better for the older group with an accuracy of 0.753, whereas its accuracy was lower for the younger group at 0.714. In contrast, Random Forest achieved higher accuracies for both the older group (0.823) and the younger group (0.738).\n",
    "\n",
    "When looking at TPR (true positive rate), Random Forest predicts the positive class better, particularly for the younger group, while Logistic Regression performs better in predicting negative classes with the TNR (true negative rate) metric.\n",
    "\n",
    "Both models generally face issues with class imbalances, which is indicated by the disparity between true positive rate (TPR) and true negative rate (TNR). Additionally, the models performed better with younger data, which could be explained by the more balanced class distribution compared to older data.\n",
    "\n",
    "Looking at the fairness metrics, statistical parity indicates that both models performed similarly, but random forest appeared to be a little bit fairer compared to logistic regression. The equalized odds metrics also support this finding. ABROCA scores showed little difference between the two models although not significant. Therefore, despite some imbalances in the data, both models exhibit the same level of fairness, in contrast to the metrics from the Law dataset. This could be attributed to the more balanced positive and negative classes for each group.\n",
    "-->"
   ]
  }
 ],
 "metadata": {
  "kernelspec": {
   "display_name": "py38",
   "language": "python",
   "name": "python3"
  },
  "language_info": {
   "codemirror_mode": {
    "name": "ipython",
    "version": 3
   },
   "file_extension": ".py",
   "mimetype": "text/x-python",
   "name": "python",
   "nbconvert_exporter": "python",
   "pygments_lexer": "ipython3",
   "version": "3.8.15"
  },
  "orig_nbformat": 4
 },
 "nbformat": 4,
 "nbformat_minor": 2
}
